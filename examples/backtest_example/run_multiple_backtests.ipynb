{
 "cells": [
  {
   "cell_type": "code",
   "execution_count": null,
   "id": "33a202ae",
   "metadata": {},
   "outputs": [],
   "source": [
    "import importlib\n",
    "import strategies.strategy_v1 as strategy_module\n",
    "import strategies.strategy_v2 as strategy_module_v2\n",
    "import strategies.strategy_v3 as strategy_module_v3\n",
    "\n",
    "importlib.reload(strategy_module)\n",
    "\n",
    "CrossOverStrategyV1 = strategy_module.CrossOverStrategyV1\n",
    "CrossOverStrategyV2 = strategy_module_v2.CrossOverStrategyV2\n",
    "CrossOverStrategyV3 = strategy_module_v3.CrossOverStrategyV3"
   ]
  },
  {
   "cell_type": "code",
   "execution_count": null,
   "id": "29aaf876",
   "metadata": {},
   "outputs": [],
   "source": [
    "import time\n",
    "from datetime import datetime, timedelta\n",
    "from investing_algorithm_framework import create_app, BacktestDateRange, \\\n",
    "    BacktestReportEvaluation, pretty_print_backtest_report_evaluation\n",
    "\n",
    "app = create_app(name=\"GoldenCrossStrategy\")\n",
    "app.add_market(market=\"BINANCE\", trading_symbol=\"EUR\", initial_balance=400)\n",
    "app.add_strategy(CrossOverStrategyV1)\n",
    "end_date = datetime(2023, 12, 2)\n",
    "start_date = end_date - timedelta(days=100)\n",
    "date_range = BacktestDateRange(start_date=start_date, end_date=end_date)\n",
    "backtest_reports = app.run_backtests(\n",
    "    backtest_date_range=date_range,\n",
    "    save_strategy=True,\n",
    "    strategy=[\n",
    "        CrossOverStrategyV1,\n",
    "        CrossOverStrategyV2,\n",
    "        CrossOverStrategyV3\n",
    "    ]\n",
    ")\n",
    "evaluation = BacktestReportEvaluation(backtest_reports)\n",
    "pretty_print_backtest_report_evaluation(evaluation)"
   ]
  }
 ],
 "metadata": {
  "language_info": {
   "name": "python"
  }
 },
 "nbformat": 4,
 "nbformat_minor": 5
}
