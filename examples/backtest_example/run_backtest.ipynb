{
 "cells": [
  {
   "cell_type": "markdown",
   "id": "0108b62e",
   "metadata": {},
   "source": [
    "## Dynamically loadin the strategy\n",
    "We can dynamically load the strategy from a file. This is useful if we want to change the strategy without restarting the entire\n",
    "notebook. This allows you to edit the strategy and quickly test it."
   ]
  },
  {
   "cell_type": "code",
   "execution_count": 1,
   "id": "2c050324d9a18a3b",
   "metadata": {},
   "outputs": [],
   "source": [
    "import importlib\n",
    "import strategies.strategy_v1 as strategy_module_v1  # Import the module\n",
    "import strategies.strategy_v2 as strategy_module_v2  # Import the module\n",
    "\n",
    "importlib.reload(strategy_module_v1)  # Reload the module\n",
    "importlib.reload(strategy_module_v2)  # Reload the module\n",
    "\n",
    "CrossOverStrategyV1 = strategy_module_v1.CrossOverStrategyV1  # Re-bind the class\n",
    "CrossOverStrategyV2 = strategy_module_v2.CrossOverStrategyV2  # Re-bind the class"
   ]
  },
  {
   "cell_type": "code",
   "execution_count": 2,
   "id": "36849215",
   "metadata": {},
   "outputs": [
    {
     "name": "stderr",
     "output_type": "stream",
     "text": [
      "Preparing backtest market data: 100%|\u001b[32m██████████\u001b[0m| 2/2 [00:00<00:00, 115.42it/s]\n"
     ]
    },
    {
     "name": "stdout",
     "output_type": "stream",
     "text": [
      "Prepared backtests for 1 strategies\n"
     ]
    },
    {
     "name": "stderr",
     "output_type": "stream",
     "text": [
      "Running backtest for algorithm with name GoldenCrossStrategy: 100%|\u001b[32m██████████\u001b[0m| 1201/1201 [00:09<00:00, 131.06it/s]"
     ]
    },
    {
     "name": "stdout",
     "output_type": "stream",
     "text": [
      "/Users/marcvanduyn/Projects/LogicFunds/investing-algorithm-framework/examples/backtest_example/strategies/strategy_v1/strategy_v1.py\n",
      "\n",
      "                  :%%%#+-          .=*#%%%        \u001b[92mBacktest report\u001b[0m\n",
      "                  *%%%%%%%+------=*%%%%%%%-       \u001b[92m---------------------------\u001b[0m\n",
      "                  *%%%%%%%%%%%%%%%%%%%%%%%-       \u001b[93mStart date:\u001b[0m\u001b[92m 2023-08-24 00:00:00\u001b[0m\n",
      "                  .%%%%%%%%%%%%%%%%%%%%%%#        \u001b[93mEnd date:\u001b[0m\u001b[92m 2023-12-02 00:00:00\u001b[0m\n",
      "                   #%%%####%%%%%%%%**#%%%+        \u001b[93mNumber of days:\u001b[0m\u001b[92m\u001b[0m\u001b[92m 100\u001b[0m\n",
      "             .:-+*%%%%- \u001b[95m-+..#\u001b[0m%%%+.\u001b[95m+-  +\u001b[0m%%%#*=-:   \u001b[93mNumber of runs:\u001b[0m\u001b[92m 1201\u001b[0m\n",
      "              .:-=*%%%%. \u001b[95m+=\u001b[0m .%%#  \u001b[95m-+.-\u001b[0m%%%%=-:..   \u001b[93mNumber of orders:\u001b[0m\u001b[92m 8\u001b[0m\n",
      "              .:=+#%%%%%*###%%%%#*+#%%%%%%*+-:    \u001b[93mInitial balance:\u001b[0m\u001b[92m 400.0\u001b[0m\n",
      "                    +%%%%%%%%%%%%%%%%%%%=         \u001b[93mFinal balance:\u001b[0m\u001b[92m 403.05\u001b[0m\n",
      "                :++  .=#%%%%%%%%%%%%%*-           \u001b[93mTotal net gain:\u001b[0m\u001b[92m 3.05 0.76%\u001b[0m\n",
      "               :++:      :+%%%%%%#-.              \u001b[93mGrowth:\u001b[0m\u001b[92m 3.05 0.76%\u001b[0m\n",
      "              :++:        .%%%%%#=                \u001b[93mNumber of trades:\u001b[0m\u001b[92m 3\u001b[0m\n",
      "              :++:        .%%%%%#=                \u001b[93mNumber of trades closed:\u001b[0m\u001b[92m 3\u001b[0m\n",
      "             :++:        .#%%%%%#*=               \u001b[93mNumber of trades open(end of backtest):\u001b[0m\u001b[92m 0\u001b[0m\n",
      "            :++-        :%%%%%%%%%+=              \u001b[93mPercentage positive trades:\u001b[0m\u001b[92m 33.33%\u001b[0m\n",
      "           .++-        -%%%%%%%%%%%+=             \u001b[93mPercentage negative trades:\u001b[0m\u001b[92m 66.67%\u001b[0m\n",
      "          .++-        .%%%%%%%%%%%%%+=            \u001b[93mAverage trade size:\u001b[0m\u001b[92m 98.08 EUR\u001b[0m\n",
      "         .++-         *%%%%%%%%%%%%%*+:           \u001b[93mAverage trade duration:\u001b[0m\u001b[92m 290 hours\u001b[0m\n",
      "        .++-          %%%%%%%%%%%%%%#+=\n",
      "        =++........:::%%%%%%%%%%%%%%*+-\n",
      "        .=++++++++++**#%%%%%%%%%%%%%++.\n",
      "        \n",
      "\u001b[93mPositions overview\u001b[0m\n",
      "╭────────────┬──────────┬──────────────────────┬───────────────────────┬──────────────┬───────────────┬───────────────────────────┬────────────────┬───────────────╮\n",
      "│ Position   │   Amount │   Pending buy amount │   Pending sell amount │   Cost (EUR) │ Value (EUR)   │ Percentage of portfolio   │ Growth (EUR)   │ Growth_rate   │\n",
      "├────────────┼──────────┼──────────────────────┼───────────────────────┼──────────────┼───────────────┼───────────────────────────┼────────────────┼───────────────┤\n",
      "│ EUR        │  403.053 │                    0 │                     0 │       403.05 │ 403.05 EUR    │ 100.00%                   │ 0.00 EUR       │ 0.00%         │\n",
      "├────────────┼──────────┼──────────────────────┼───────────────────────┼──────────────┼───────────────┼───────────────────────────┼────────────────┼───────────────┤\n",
      "│ BTC        │    0     │                    0 │                     0 │         0    │ 0.00 EUR      │ 0.00%                     │ 0.00 EUR       │ 0.00%         │\n",
      "╰────────────┴──────────┴──────────────────────┴───────────────────────┴──────────────┴───────────────┴───────────────────────────┴────────────────┴───────────────╯\n",
      "\u001b[93mTrades overview\u001b[0m\n",
      "╭───────────────────┬────────────────┬──────────────────────┬──────────────────┬──────────────────┬──────────────────┬─────────────┬────────────────────┬───────────────────────┬─────────────────────────────────╮\n",
      "│ Pair (Trade id)   │ Status         │ Amount (remaining)   │ Net gain (EUR)   │ Open date        │ Close date       │ Duration    │   Open price (EUR) │ Close price's (EUR)   │ High water mark                 │\n",
      "├───────────────────┼────────────────┼──────────────────────┼──────────────────┼──────────────────┼──────────────────┼─────────────┼────────────────────┼───────────────────────┼─────────────────────────────────┤\n",
      "│ BTC/EUR (1)       │ CLOSED         │ 0.0041 (0.0000) BTC  │ -0.49 (-0.50%)   │ 2023-09-08 10:00 │ 2023-09-10 16:00 │ 54.0 hours  │            24185.3 │ 24065.41              │ 24259.22 EUR (2023-09-08 22:00) │\n",
      "├───────────────────┼────────────────┼──────────────────────┼──────────────────┼──────────────────┼──────────────────┼─────────────┼────────────────────┼───────────────────────┼─────────────────────────────────┤\n",
      "│ BTC/EUR (2)       │ CLOSED, SL, TP │ 0.0039 (0.0000) BTC  │ 5.64 (5.75%)     │ 2023-09-28 00:00 │ 2023-10-19 16:00 │ 520.0 hours │            25158.7 │ 26235.27, 26975.56    │ 27174.19 EUR (2023-10-19 14:00) │\n",
      "├───────────────────┼────────────────┼──────────────────────┼──────────────────┼──────────────────┼──────────────────┼─────────────┼────────────────────┼───────────────────────┼─────────────────────────────────┤\n",
      "│ BTC/EUR (3)       │ CLOSED, SL     │ 0.0028 (0.0000) BTC  │ -2.10 (-2.16%)   │ 2023-11-15 18:00 │ 2023-11-28 02:00 │ 296.0 hours │            34627.6 │ 33836.90, 33919.73    │ 34969.67 EUR (2023-11-24 14:00) │\n",
      "╰───────────────────┴────────────────┴──────────────────────┴──────────────────┴──────────────────┴──────────────────┴─────────────┴────────────────────┴───────────────────────┴─────────────────────────────────╯\n",
      "\u001b[93mStop losses overview\u001b[0m\n",
      "╭────────────────────┬───────────────┬──────────┬──────────┬─────────────────────────────────┬──────────────┬────────────────┬───────────────────────────────┬──────────────┬──────────┬───────────────╮\n",
      "│ Trade (Trade id)   │ Status        │ Active   │ Type     │ Stop Loss (Initial Stop Loss)   │ Open price   │   Sell price's │ High water mark               │ Percentage   │ Size     │ Sold amount   │\n",
      "├────────────────────┼───────────────┼──────────┼──────────┼─────────────────────────────────┼──────────────┼────────────────┼───────────────────────────────┼──────────────┼──────────┼───────────────┤\n",
      "│ BTC/EUR (1)        │ NOT TRIGGERED │ False    │ TRAILING │ 23774.04 (23701.63) (2.0)% EUR  │ 24185.34 EUR │        26235.3 │ 24259.22 EUR 2023-09-08 22:00 │ 50.0%        │ 0.00 BTC │               │\n",
      "├────────────────────┼───────────────┼──────────┼──────────┼─────────────────────────────────┼──────────────┼────────────────┼───────────────────────────────┼──────────────┼──────────┼───────────────┤\n",
      "│ BTC/EUR (2)        │ TRIGGERED     │ False    │ TRAILING │ 26602.57 (24655.50) (2.0)% EUR  │ 25158.67 EUR │        33836.9 │ 27145.48 EUR 2023-10-02 12:00 │ 50.0%        │ 0.00 BTC │ 0.0019 BTC    │\n",
      "├────────────────────┼───────────────┼──────────┼──────────┼─────────────────────────────────┼──────────────┼────────────────┼───────────────────────────────┼──────────────┼──────────┼───────────────┤\n",
      "│ BTC/EUR (3)        │ TRIGGERED     │ False    │ TRAILING │ 34242.26 (33935.07) (2.0)% EUR  │ 34627.62 EUR │                │ 34941.08 EUR 2023-11-15 22:00 │ 50.0%        │ 0.00 BTC │ 0.0014 BTC    │\n",
      "╰────────────────────┴───────────────┴──────────┴──────────┴─────────────────────────────────┴──────────────┴────────────────┴───────────────────────────────┴──────────────┴──────────┴───────────────╯\n",
      "\u001b[93mTake profits overview\u001b[0m\n",
      "╭────────────────────┬───────────────┬──────────┬──────────┬─────────────────────────────────────┬──────────────┬────────────────┬─────────────────────────────────┬──────────────┬────────────┬───────────────╮\n",
      "│ Trade (Trade id)   │ Status        │ Active   │ Type     │ Take profit (Initial Take Profit)   │ Open price   │ Sell price's   │ High water mark                 │ Percentage   │ Size       │ Sold amount   │\n",
      "├────────────────────┼───────────────┼──────────┼──────────┼─────────────────────────────────────┼──────────────┼────────────────┼─────────────────────────────────┼──────────────┼────────────┼───────────────┤\n",
      "│ BTC/EUR (1)        │ NOT TRIGGERED │ False    │ TRAILING │ 26120.17 (26120.17) (8.0)% EUR      │ 24185.34 EUR │ None           │                                 │ 50.0%        │ 0.0021 BTC │               │\n",
      "├────────────────────┼───────────────┼──────────┼──────────┼─────────────────────────────────────┼──────────────┼────────────────┼─────────────────────────────────┼──────────────┼────────────┼───────────────┤\n",
      "│ BTC/EUR (2)        │ TRIGGERED     │ False    │ TRAILING │ 27171.36 (27171.36) (8.0)% EUR      │ 25158.67 EUR │ 26975.56       │ 27174.19 EUR (2023-10-19 14:00) │ 50.0%        │ 0.0019 BTC │ 0.0019 BTC    │\n",
      "├────────────────────┼───────────────┼──────────┼──────────┼─────────────────────────────────────┼──────────────┼────────────────┼─────────────────────────────────┼──────────────┼────────────┼───────────────┤\n",
      "│ BTC/EUR (3)        │ NOT TRIGGERED │ False    │ TRAILING │ 37397.83 (37397.83) (8.0)% EUR      │ 34627.62 EUR │ None           │                                 │ 50.0%        │ 0.0014 BTC │               │\n",
      "╰────────────────────┴───────────────┴──────────┴──────────┴─────────────────────────────────────┴──────────────┴────────────────┴─────────────────────────────────┴──────────────┴────────────┴───────────────╯\n",
      "Execution Time: 9.363543 seconds\n"
     ]
    },
    {
     "name": "stderr",
     "output_type": "stream",
     "text": [
      "\n"
     ]
    }
   ],
   "source": [
    "import time\n",
    "from datetime import datetime, timedelta\n",
    "from investing_algorithm_framework import create_app, BacktestDateRange, \\\n",
    "    pretty_print_backtest\n",
    "\n",
    "app = create_app(name=\"GoldenCrossStrategy\")\n",
    "app.add_market(market=\"BINANCE\", trading_symbol=\"EUR\", initial_balance=400)\n",
    "app.add_strategy(CrossOverStrategyV1)\n",
    "end_date = datetime(2023, 12, 2)\n",
    "start_date = end_date - timedelta(days=100)\n",
    "date_range = BacktestDateRange(\n",
    "    start_date=start_date, end_date=end_date\n",
    ")\n",
    "start_time = time.time()\n",
    "backtest_report = app.run_backtest(\n",
    "    backtest_date_range=date_range, save_strategy=True\n",
    ")\n",
    "pretty_print_backtest(backtest_report)\n",
    "end_time = time.time()\n",
    "print(f\"Execution Time: {end_time - start_time:.6f} seconds\")"
   ]
  },
  {
   "cell_type": "code",
   "execution_count": 3,
   "id": "d417096c",
   "metadata": {},
   "outputs": [
    {
     "name": "stderr",
     "output_type": "stream",
     "text": [
      "Preparing backtest market data: 100%|\u001b[32m██████████\u001b[0m| 2/2 [00:00<00:00, 163.99it/s]\n"
     ]
    },
    {
     "name": "stdout",
     "output_type": "stream",
     "text": [
      "Prepared backtests for 1 strategies\n"
     ]
    },
    {
     "name": "stderr",
     "output_type": "stream",
     "text": [
      "Running backtest for algorithm with name GoldenCrossStrategy: 100%|\u001b[32m██████████\u001b[0m| 1201/1201 [00:09<00:00, 133.22it/s]\n"
     ]
    },
    {
     "name": "stdout",
     "output_type": "stream",
     "text": [
      "/Users/marcvanduyn/Projects/LogicFunds/investing-algorithm-framework/examples/backtest_example/strategies/strategy_v1/strategy_v1.py\n",
      "\n",
      "                  :%%%#+-          .=*#%%%        \u001b[92mBacktest report\u001b[0m\n",
      "                  *%%%%%%%+------=*%%%%%%%-       \u001b[92m---------------------------\u001b[0m\n",
      "                  *%%%%%%%%%%%%%%%%%%%%%%%-       \u001b[93mStart date:\u001b[0m\u001b[92m 2023-08-24 00:00:00\u001b[0m\n",
      "                  .%%%%%%%%%%%%%%%%%%%%%%#        \u001b[93mEnd date:\u001b[0m\u001b[92m 2023-12-02 00:00:00\u001b[0m\n",
      "                   #%%%####%%%%%%%%**#%%%+        \u001b[93mNumber of days:\u001b[0m\u001b[92m\u001b[0m\u001b[92m 100\u001b[0m\n",
      "             .:-+*%%%%- \u001b[95m-+..#\u001b[0m%%%+.\u001b[95m+-  +\u001b[0m%%%#*=-:   \u001b[93mNumber of runs:\u001b[0m\u001b[92m 1201\u001b[0m\n",
      "              .:-=*%%%%. \u001b[95m+=\u001b[0m .%%#  \u001b[95m-+.-\u001b[0m%%%%=-:..   \u001b[93mNumber of orders:\u001b[0m\u001b[92m 8\u001b[0m\n",
      "              .:=+#%%%%%*###%%%%#*+#%%%%%%*+-:    \u001b[93mInitial balance:\u001b[0m\u001b[92m 400.0\u001b[0m\n",
      "                    +%%%%%%%%%%%%%%%%%%%=         \u001b[93mFinal balance:\u001b[0m\u001b[92m 403.05\u001b[0m\n",
      "                :++  .=#%%%%%%%%%%%%%*-           \u001b[93mTotal net gain:\u001b[0m\u001b[92m 3.05 0.76%\u001b[0m\n",
      "               :++:      :+%%%%%%#-.              \u001b[93mGrowth:\u001b[0m\u001b[92m 3.05 0.76%\u001b[0m\n",
      "              :++:        .%%%%%#=                \u001b[93mNumber of trades:\u001b[0m\u001b[92m 3\u001b[0m\n",
      "              :++:        .%%%%%#=                \u001b[93mNumber of trades closed:\u001b[0m\u001b[92m 3\u001b[0m\n",
      "             :++:        .#%%%%%#*=               \u001b[93mNumber of trades open(end of backtest):\u001b[0m\u001b[92m 0\u001b[0m\n",
      "            :++-        :%%%%%%%%%+=              \u001b[93mPercentage positive trades:\u001b[0m\u001b[92m 33.33%\u001b[0m\n",
      "           .++-        -%%%%%%%%%%%+=             \u001b[93mPercentage negative trades:\u001b[0m\u001b[92m 66.67%\u001b[0m\n",
      "          .++-        .%%%%%%%%%%%%%+=            \u001b[93mAverage trade size:\u001b[0m\u001b[92m 98.08 EUR\u001b[0m\n",
      "         .++-         *%%%%%%%%%%%%%*+:           \u001b[93mAverage trade duration:\u001b[0m\u001b[92m 290 hours\u001b[0m\n",
      "        .++-          %%%%%%%%%%%%%%#+=\n",
      "        =++........:::%%%%%%%%%%%%%%*+-\n",
      "        .=++++++++++**#%%%%%%%%%%%%%++.\n",
      "        \n",
      "\u001b[93mPositions overview\u001b[0m\n",
      "╭────────────┬──────────┬──────────────────────┬───────────────────────┬──────────────┬───────────────┬───────────────────────────┬────────────────┬───────────────╮\n",
      "│ Position   │   Amount │   Pending buy amount │   Pending sell amount │   Cost (EUR) │ Value (EUR)   │ Percentage of portfolio   │ Growth (EUR)   │ Growth_rate   │\n",
      "├────────────┼──────────┼──────────────────────┼───────────────────────┼──────────────┼───────────────┼───────────────────────────┼────────────────┼───────────────┤\n",
      "│ EUR        │  403.053 │                    0 │                     0 │       403.05 │ 403.05 EUR    │ 100.00%                   │ 0.00 EUR       │ 0.00%         │\n",
      "├────────────┼──────────┼──────────────────────┼───────────────────────┼──────────────┼───────────────┼───────────────────────────┼────────────────┼───────────────┤\n",
      "│ BTC        │    0     │                    0 │                     0 │         0    │ 0.00 EUR      │ 0.00%                     │ 0.00 EUR       │ 0.00%         │\n",
      "╰────────────┴──────────┴──────────────────────┴───────────────────────┴──────────────┴───────────────┴───────────────────────────┴────────────────┴───────────────╯\n",
      "\u001b[93mTrades overview\u001b[0m\n",
      "╭───────────────────┬────────────────┬──────────────────────┬──────────────────┬──────────────────┬──────────────────┬─────────────┬────────────────────┬───────────────────────┬─────────────────────────────────╮\n",
      "│ Pair (Trade id)   │ Status         │ Amount (remaining)   │ Net gain (EUR)   │ Open date        │ Close date       │ Duration    │   Open price (EUR) │ Close price's (EUR)   │ High water mark                 │\n",
      "├───────────────────┼────────────────┼──────────────────────┼──────────────────┼──────────────────┼──────────────────┼─────────────┼────────────────────┼───────────────────────┼─────────────────────────────────┤\n",
      "│ BTC/EUR (1)       │ CLOSED         │ 0.0041 (0.0000) BTC  │ -0.49 (-0.50%)   │ 2023-09-08 10:00 │ 2023-09-10 16:00 │ 54.0 hours  │            24185.3 │ 24065.41              │ 24259.22 EUR (2023-09-08 22:00) │\n",
      "├───────────────────┼────────────────┼──────────────────────┼──────────────────┼──────────────────┼──────────────────┼─────────────┼────────────────────┼───────────────────────┼─────────────────────────────────┤\n",
      "│ BTC/EUR (2)       │ CLOSED, SL, TP │ 0.0039 (0.0000) BTC  │ 5.64 (5.75%)     │ 2023-09-28 00:00 │ 2023-10-19 16:00 │ 520.0 hours │            25158.7 │ 26235.27, 26975.56    │ 27174.19 EUR (2023-10-19 14:00) │\n",
      "├───────────────────┼────────────────┼──────────────────────┼──────────────────┼──────────────────┼──────────────────┼─────────────┼────────────────────┼───────────────────────┼─────────────────────────────────┤\n",
      "│ BTC/EUR (3)       │ CLOSED, SL     │ 0.0028 (0.0000) BTC  │ -2.10 (-2.16%)   │ 2023-11-15 18:00 │ 2023-11-28 02:00 │ 296.0 hours │            34627.6 │ 33836.90, 33919.73    │ 34969.67 EUR (2023-11-24 14:00) │\n",
      "╰───────────────────┴────────────────┴──────────────────────┴──────────────────┴──────────────────┴──────────────────┴─────────────┴────────────────────┴───────────────────────┴─────────────────────────────────╯\n",
      "\u001b[93mStop losses overview\u001b[0m\n",
      "╭────────────────────┬───────────────┬──────────┬──────────┬─────────────────────────────────┬──────────────┬────────────────┬───────────────────────────────┬──────────────┬──────────┬───────────────╮\n",
      "│ Trade (Trade id)   │ Status        │ Active   │ Type     │ Stop Loss (Initial Stop Loss)   │ Open price   │   Sell price's │ High water mark               │ Percentage   │ Size     │ Sold amount   │\n",
      "├────────────────────┼───────────────┼──────────┼──────────┼─────────────────────────────────┼──────────────┼────────────────┼───────────────────────────────┼──────────────┼──────────┼───────────────┤\n",
      "│ BTC/EUR (1)        │ NOT TRIGGERED │ False    │ TRAILING │ 23774.04 (23701.63) (2.0)% EUR  │ 24185.34 EUR │        26235.3 │ 24259.22 EUR 2023-09-08 22:00 │ 50.0%        │ 0.00 BTC │               │\n",
      "├────────────────────┼───────────────┼──────────┼──────────┼─────────────────────────────────┼──────────────┼────────────────┼───────────────────────────────┼──────────────┼──────────┼───────────────┤\n",
      "│ BTC/EUR (2)        │ TRIGGERED     │ False    │ TRAILING │ 26602.57 (24655.50) (2.0)% EUR  │ 25158.67 EUR │        33836.9 │ 27145.48 EUR 2023-10-02 12:00 │ 50.0%        │ 0.00 BTC │ 0.0019 BTC    │\n",
      "├────────────────────┼───────────────┼──────────┼──────────┼─────────────────────────────────┼──────────────┼────────────────┼───────────────────────────────┼──────────────┼──────────┼───────────────┤\n",
      "│ BTC/EUR (3)        │ TRIGGERED     │ False    │ TRAILING │ 34242.26 (33935.07) (2.0)% EUR  │ 34627.62 EUR │                │ 34941.08 EUR 2023-11-15 22:00 │ 50.0%        │ 0.00 BTC │ 0.0014 BTC    │\n",
      "╰────────────────────┴───────────────┴──────────┴──────────┴─────────────────────────────────┴──────────────┴────────────────┴───────────────────────────────┴──────────────┴──────────┴───────────────╯\n",
      "\u001b[93mTake profits overview\u001b[0m\n",
      "╭────────────────────┬───────────────┬──────────┬──────────┬─────────────────────────────────────┬──────────────┬────────────────┬─────────────────────────────────┬──────────────┬────────────┬───────────────╮\n",
      "│ Trade (Trade id)   │ Status        │ Active   │ Type     │ Take profit (Initial Take Profit)   │ Open price   │ Sell price's   │ High water mark                 │ Percentage   │ Size       │ Sold amount   │\n",
      "├────────────────────┼───────────────┼──────────┼──────────┼─────────────────────────────────────┼──────────────┼────────────────┼─────────────────────────────────┼──────────────┼────────────┼───────────────┤\n",
      "│ BTC/EUR (1)        │ NOT TRIGGERED │ False    │ TRAILING │ 26120.17 (26120.17) (8.0)% EUR      │ 24185.34 EUR │ None           │                                 │ 50.0%        │ 0.0021 BTC │               │\n",
      "├────────────────────┼───────────────┼──────────┼──────────┼─────────────────────────────────────┼──────────────┼────────────────┼─────────────────────────────────┼──────────────┼────────────┼───────────────┤\n",
      "│ BTC/EUR (2)        │ TRIGGERED     │ False    │ TRAILING │ 27171.36 (27171.36) (8.0)% EUR      │ 25158.67 EUR │ 26975.56       │ 27174.19 EUR (2023-10-19 14:00) │ 50.0%        │ 0.0019 BTC │ 0.0019 BTC    │\n",
      "├────────────────────┼───────────────┼──────────┼──────────┼─────────────────────────────────────┼──────────────┼────────────────┼─────────────────────────────────┼──────────────┼────────────┼───────────────┤\n",
      "│ BTC/EUR (3)        │ NOT TRIGGERED │ False    │ TRAILING │ 37397.83 (37397.83) (8.0)% EUR      │ 34627.62 EUR │ None           │                                 │ 50.0%        │ 0.0014 BTC │               │\n",
      "╰────────────────────┴───────────────┴──────────┴──────────┴─────────────────────────────────────┴──────────────┴────────────────┴─────────────────────────────────┴──────────────┴────────────┴───────────────╯\n",
      "Execution Time: 9.158936 seconds\n"
     ]
    }
   ],
   "source": [
    "import time\n",
    "from datetime import datetime, timedelta\n",
    "from investing_algorithm_framework import create_app, BacktestDateRange, \\\n",
    "    pretty_print_backtest\n",
    "\n",
    "app = create_app(name=\"GoldenCrossStrategy\")\n",
    "app.add_market(market=\"BINANCE\", trading_symbol=\"EUR\", initial_balance=400)\n",
    "# app.add_strategy(CrossOverStrategyV1)\n",
    "end_date = datetime(2023, 12, 2)\n",
    "start_date = end_date - timedelta(days=100)\n",
    "date_range = BacktestDateRange(\n",
    "    start_date=start_date, end_date=end_date\n",
    ")\n",
    "start_time = time.time()\n",
    "backtest_report = app.run_backtest(\n",
    "    backtest_date_range=date_range,\n",
    "    strategy=CrossOverStrategyV1,\n",
    "    save_strategy=True\n",
    ")\n",
    "pretty_print_backtest(backtest_report)\n",
    "end_time = time.time()\n",
    "print(f\"Execution Time: {end_time - start_time:.6f} seconds\")\n"
   ]
  },
  {
   "cell_type": "code",
   "execution_count": 2,
   "id": "8fa0258f",
   "metadata": {},
   "outputs": [
    {
     "name": "stderr",
     "output_type": "stream",
     "text": [
      "Preparing backtest market data: 100%|\u001b[32m██████████\u001b[0m| 4/4 [00:00<00:00, 140.74it/s]\n"
     ]
    },
    {
     "name": "stdout",
     "output_type": "stream",
     "text": [
      "Prepared backtests for 2 strategies\n"
     ]
    },
    {
     "name": "stderr",
     "output_type": "stream",
     "text": [
      "Running backtest for algorithm with name GoldenCrossStrategy: 100%|\u001b[32m██████████\u001b[0m| 2402/2402 [00:18<00:00, 133.04it/s]\n"
     ]
    },
    {
     "name": "stdout",
     "output_type": "stream",
     "text": [
      "/Users/marcvanduyn/Projects/LogicFunds/investing-algorithm-framework/examples/backtest_example/strategies/strategy_v1/strategy_v1.py\n",
      "/Users/marcvanduyn/Projects/LogicFunds/investing-algorithm-framework/examples/backtest_example/strategies/strategy_v2/strategy_v2.py\n",
      "\n",
      "                  :%%%#+-          .=*#%%%        \u001b[92mBacktest report\u001b[0m\n",
      "                  *%%%%%%%+------=*%%%%%%%-       \u001b[92m---------------------------\u001b[0m\n",
      "                  *%%%%%%%%%%%%%%%%%%%%%%%-       \u001b[93mStart date:\u001b[0m\u001b[92m 2023-08-24 00:00:00\u001b[0m\n",
      "                  .%%%%%%%%%%%%%%%%%%%%%%#        \u001b[93mEnd date:\u001b[0m\u001b[92m 2023-12-02 00:00:00\u001b[0m\n",
      "                   #%%%####%%%%%%%%**#%%%+        \u001b[93mNumber of days:\u001b[0m\u001b[92m\u001b[0m\u001b[92m 100\u001b[0m\n",
      "             .:-+*%%%%- \u001b[95m-+..#\u001b[0m%%%+.\u001b[95m+-  +\u001b[0m%%%#*=-:   \u001b[93mNumber of runs:\u001b[0m\u001b[92m 2402\u001b[0m\n",
      "              .:-=*%%%%. \u001b[95m+=\u001b[0m .%%#  \u001b[95m-+.-\u001b[0m%%%%=-:..   \u001b[93mNumber of orders:\u001b[0m\u001b[92m 5\u001b[0m\n",
      "              .:=+#%%%%%*###%%%%#*+#%%%%%%*+-:    \u001b[93mInitial balance:\u001b[0m\u001b[92m 400.0\u001b[0m\n",
      "                    +%%%%%%%%%%%%%%%%%%%=         \u001b[93mFinal balance:\u001b[0m\u001b[92m 418.18\u001b[0m\n",
      "                :++  .=#%%%%%%%%%%%%%*-           \u001b[93mTotal net gain:\u001b[0m\u001b[92m 18.18 4.54%\u001b[0m\n",
      "               :++:      :+%%%%%%#-.              \u001b[93mGrowth:\u001b[0m\u001b[92m 18.18 4.54%\u001b[0m\n",
      "              :++:        .%%%%%#=                \u001b[93mNumber of trades:\u001b[0m\u001b[92m 2\u001b[0m\n",
      "              :++:        .%%%%%#=                \u001b[93mNumber of trades closed:\u001b[0m\u001b[92m 2\u001b[0m\n",
      "             :++:        .#%%%%%#*=               \u001b[93mNumber of trades open(end of backtest):\u001b[0m\u001b[92m 0\u001b[0m\n",
      "            :++-        :%%%%%%%%%+=              \u001b[93mPercentage positive trades:\u001b[0m\u001b[92m 50.00%\u001b[0m\n",
      "           .++-        -%%%%%%%%%%%+=             \u001b[93mPercentage negative trades:\u001b[0m\u001b[92m 50.00%\u001b[0m\n",
      "          .++-        .%%%%%%%%%%%%%+=            \u001b[93mAverage trade size:\u001b[0m\u001b[92m 98.90 EUR\u001b[0m\n",
      "         .++-         *%%%%%%%%%%%%%*+:           \u001b[93mAverage trade duration:\u001b[0m\u001b[92m 766 hours\u001b[0m\n",
      "        .++-          %%%%%%%%%%%%%%#+=\n",
      "        =++........:::%%%%%%%%%%%%%%*+-\n",
      "        .=++++++++++**#%%%%%%%%%%%%%++.\n",
      "        \n",
      "\u001b[93mPositions overview\u001b[0m\n",
      "╭────────────┬──────────┬──────────────────────┬───────────────────────┬──────────────┬───────────────┬───────────────────────────┬────────────────┬───────────────╮\n",
      "│ Position   │   Amount │   Pending buy amount │   Pending sell amount │   Cost (EUR) │ Value (EUR)   │ Percentage of portfolio   │ Growth (EUR)   │ Growth_rate   │\n",
      "├────────────┼──────────┼──────────────────────┼───────────────────────┼──────────────┼───────────────┼───────────────────────────┼────────────────┼───────────────┤\n",
      "│ EUR        │  418.176 │                    0 │                     0 │       418.18 │ 418.18 EUR    │ 100.00%                   │ 0.00 EUR       │ 0.00%         │\n",
      "├────────────┼──────────┼──────────────────────┼───────────────────────┼──────────────┼───────────────┼───────────────────────────┼────────────────┼───────────────┤\n",
      "│ BTC        │    0     │                    0 │                     0 │         0    │ 0.00 EUR      │ 0.00%                     │ 0.00 EUR       │ 0.00%         │\n",
      "╰────────────┴──────────┴──────────────────────┴───────────────────────┴──────────────┴───────────────┴───────────────────────────┴────────────────┴───────────────╯\n",
      "\u001b[93mTrades overview\u001b[0m\n",
      "╭───────────────────┬────────────┬──────────────────────┬──────────────────┬──────────────────┬──────────────────┬──────────────┬────────────────────┬───────────────────────┬─────────────────────────────────╮\n",
      "│ Pair (Trade id)   │ Status     │ Amount (remaining)   │ Net gain (EUR)   │ Open date        │ Close date       │ Duration     │   Open price (EUR) │ Close price's (EUR)   │ High water mark                 │\n",
      "├───────────────────┼────────────┼──────────────────────┼──────────────────┼──────────────────┼──────────────────┼──────────────┼────────────────────┼───────────────────────┼─────────────────────────────────┤\n",
      "│ BTC/EUR (1)       │ CLOSED     │ 0.0041 (0.0000) BTC  │ -0.49 (-0.50%)   │ 2023-09-08 10:00 │ 2023-09-10 16:00 │ 54.0 hours   │            24185.3 │ 24065.41              │ 24259.22 EUR (2023-09-08 22:00) │\n",
      "├───────────────────┼────────────┼──────────────────────┼──────────────────┼──────────────────┼──────────────────┼──────────────┼────────────────────┼───────────────────────┼─────────────────────────────────┤\n",
      "│ BTC/EUR (2)       │ CLOSED, SL │ 0.0039 (0.0000) BTC  │ 18.67 (18.93%)   │ 2023-09-27 12:00 │ 2023-11-28 02:00 │ 1478.0 hours │            25291   │ 33919.73, 26235.27    │ 34969.67 EUR (2023-11-24 14:00) │\n",
      "╰───────────────────┴────────────┴──────────────────────┴──────────────────┴──────────────────┴──────────────────┴──────────────┴────────────────────┴───────────────────────┴─────────────────────────────────╯\n",
      "\u001b[93mStop losses overview\u001b[0m\n",
      "╭────────────────────┬───────────────┬──────────┬──────────┬─────────────────────────────────┬──────────────┬────────────────┬───────────────────────────────┬──────────────┬──────────┬───────────────╮\n",
      "│ Trade (Trade id)   │ Status        │ Active   │ Type     │ Stop Loss (Initial Stop Loss)   │ Open price   │   Sell price's │ High water mark               │ Percentage   │ Size     │ Sold amount   │\n",
      "├────────────────────┼───────────────┼──────────┼──────────┼─────────────────────────────────┼──────────────┼────────────────┼───────────────────────────────┼──────────────┼──────────┼───────────────┤\n",
      "│ BTC/EUR (1)        │ NOT TRIGGERED │ False    │ TRAILING │ 23774.04 (23701.63) (2.0)% EUR  │ 24185.34 EUR │        26235.3 │ 24259.22 EUR 2023-09-08 22:00 │ 50.0%        │ 0.00 BTC │               │\n",
      "├────────────────────┼───────────────┼──────────┼──────────┼─────────────────────────────────┼──────────────┼────────────────┼───────────────────────────────┼──────────────┼──────────┼───────────────┤\n",
      "│ BTC/EUR (2)        │ TRIGGERED     │ False    │ TRAILING │ 26602.57 (24785.18) (2.0)% EUR  │ 25291.00 EUR │                │ 27145.48 EUR 2023-10-02 12:00 │ 50.0%        │ 0.00 BTC │ 0.0019 BTC    │\n",
      "╰────────────────────┴───────────────┴──────────┴──────────┴─────────────────────────────────┴──────────────┴────────────────┴───────────────────────────────┴──────────────┴──────────┴───────────────╯\n",
      "\u001b[93mTake profits overview\u001b[0m\n",
      "╭────────────────────┬───────────────┬──────────┬──────────┬─────────────────────────────────────┬──────────────┬────────────────┬─────────────────────────────────┬──────────────┬────────────┬───────────────╮\n",
      "│ Trade (Trade id)   │ Status        │ Active   │ Type     │ Take profit (Initial Take Profit)   │ Open price   │ Sell price's   │ High water mark                 │ Percentage   │ Size       │ Sold amount   │\n",
      "├────────────────────┼───────────────┼──────────┼──────────┼─────────────────────────────────────┼──────────────┼────────────────┼─────────────────────────────────┼──────────────┼────────────┼───────────────┤\n",
      "│ BTC/EUR (1)        │ NOT TRIGGERED │ False    │ TRAILING │ 26120.17 (26120.17) (8.0)% EUR      │ 24185.34 EUR │ None           │                                 │ 50.0%        │ 0.0021 BTC │               │\n",
      "├────────────────────┼───────────────┼──────────┼──────────┼─────────────────────────────────────┼──────────────┼────────────────┼─────────────────────────────────┼──────────────┼────────────┼───────────────┤\n",
      "│ BTC/EUR (2)        │ NOT TRIGGERED │ False    │ TRAILING │ 32172.10 (27314.28) (8.0)% EUR      │ 25291.00 EUR │ None           │ 34969.67 EUR (2023-11-24 14:00) │ 50.0%        │ 0.0019 BTC │               │\n",
      "╰────────────────────┴───────────────┴──────────┴──────────┴─────────────────────────────────────┴──────────────┴────────────────┴─────────────────────────────────┴──────────────┴────────────┴───────────────╯\n",
      "Execution Time: 18.350031 seconds\n"
     ]
    }
   ],
   "source": [
    "import time\n",
    "from datetime import datetime, timedelta\n",
    "from investing_algorithm_framework import create_app, BacktestDateRange, \\\n",
    "    pretty_print_backtest\n",
    "\n",
    "app = create_app(name=\"GoldenCrossStrategy\")\n",
    "app.add_market(market=\"BINANCE\", trading_symbol=\"EUR\", initial_balance=400)\n",
    "# app.add_strategy(CrossOverStrategyV1)\n",
    "end_date = datetime(2023, 12, 2)\n",
    "start_date = end_date - timedelta(days=100)\n",
    "date_range = BacktestDateRange(\n",
    "    start_date=start_date, end_date=end_date\n",
    ")\n",
    "start_time = time.time()\n",
    "backtest_report = app.run_backtest(\n",
    "    backtest_date_range=date_range,\n",
    "    strategies=[CrossOverStrategyV1, CrossOverStrategyV2],\n",
    "    save_strategy=True\n",
    ")\n",
    "pretty_print_backtest(backtest_report)\n",
    "end_time = time.time()\n",
    "print(f\"Execution Time: {end_time - start_time:.6f} seconds\")\n"
   ]
  },
  {
   "cell_type": "code",
   "execution_count": 8,
   "id": "1603c614",
   "metadata": {},
   "outputs": [
    {
     "name": "stderr",
     "output_type": "stream",
     "text": [
      "Preparing backtest market data: 100%|\u001b[32m██████████\u001b[0m| 8/8 [00:00<00:00, 156.34it/s]\n"
     ]
    },
    {
     "name": "stdout",
     "output_type": "stream",
     "text": [
      "Prepared backtests for 2 strategies\n"
     ]
    },
    {
     "name": "stderr",
     "output_type": "stream",
     "text": [
      "Running backtest for algorithm with name GoldenCrossStrategy: 100%|\u001b[32m██████████\u001b[0m| 2402/2402 [00:17<00:00, 135.40it/s]\n"
     ]
    },
    {
     "name": "stdout",
     "output_type": "stream",
     "text": [
      "/Users/marcvanduyn/Projects/LogicFunds/investing-algorithm-framework/examples/backtest_example/strategies/strategy_v1/strategy_v1.py\n",
      "/Users/marcvanduyn/Projects/LogicFunds/investing-algorithm-framework/examples/backtest_example/strategies/strategy_v2/strategy_v2.py\n",
      "\n",
      "                  :%%%#+-          .=*#%%%        \u001b[92mBacktest report\u001b[0m\n",
      "                  *%%%%%%%+------=*%%%%%%%-       \u001b[92m---------------------------\u001b[0m\n",
      "                  *%%%%%%%%%%%%%%%%%%%%%%%-       \u001b[93mStart date:\u001b[0m\u001b[92m 2023-08-24 00:00:00\u001b[0m\n",
      "                  .%%%%%%%%%%%%%%%%%%%%%%#        \u001b[93mEnd date:\u001b[0m\u001b[92m 2023-12-02 00:00:00\u001b[0m\n",
      "                   #%%%####%%%%%%%%**#%%%+        \u001b[93mNumber of days:\u001b[0m\u001b[92m\u001b[0m\u001b[92m 100\u001b[0m\n",
      "             .:-+*%%%%- \u001b[95m-+..#\u001b[0m%%%+.\u001b[95m+-  +\u001b[0m%%%#*=-:   \u001b[93mNumber of runs:\u001b[0m\u001b[92m 2402\u001b[0m\n",
      "              .:-=*%%%%. \u001b[95m+=\u001b[0m .%%#  \u001b[95m-+.-\u001b[0m%%%%=-:..   \u001b[93mNumber of orders:\u001b[0m\u001b[92m 5\u001b[0m\n",
      "              .:=+#%%%%%*###%%%%#*+#%%%%%%*+-:    \u001b[93mInitial balance:\u001b[0m\u001b[92m 400.0\u001b[0m\n",
      "                    +%%%%%%%%%%%%%%%%%%%=         \u001b[93mFinal balance:\u001b[0m\u001b[92m 418.18\u001b[0m\n",
      "                :++  .=#%%%%%%%%%%%%%*-           \u001b[93mTotal net gain:\u001b[0m\u001b[92m 18.18 4.54%\u001b[0m\n",
      "               :++:      :+%%%%%%#-.              \u001b[93mGrowth:\u001b[0m\u001b[92m 18.18 4.54%\u001b[0m\n",
      "              :++:        .%%%%%#=                \u001b[93mNumber of trades:\u001b[0m\u001b[92m 2\u001b[0m\n",
      "              :++:        .%%%%%#=                \u001b[93mNumber of trades closed:\u001b[0m\u001b[92m 2\u001b[0m\n",
      "             :++:        .#%%%%%#*=               \u001b[93mNumber of trades open(end of backtest):\u001b[0m\u001b[92m 0\u001b[0m\n",
      "            :++-        :%%%%%%%%%+=              \u001b[93mPercentage positive trades:\u001b[0m\u001b[92m 50.00%\u001b[0m\n",
      "           .++-        -%%%%%%%%%%%+=             \u001b[93mPercentage negative trades:\u001b[0m\u001b[92m 50.00%\u001b[0m\n",
      "          .++-        .%%%%%%%%%%%%%+=            \u001b[93mAverage trade size:\u001b[0m\u001b[92m 98.90 EUR\u001b[0m\n",
      "         .++-         *%%%%%%%%%%%%%*+:           \u001b[93mAverage trade duration:\u001b[0m\u001b[92m 766 hours\u001b[0m\n",
      "        .++-          %%%%%%%%%%%%%%#+=\n",
      "        =++........:::%%%%%%%%%%%%%%*+-\n",
      "        .=++++++++++**#%%%%%%%%%%%%%++.\n",
      "        \n",
      "\u001b[93mPositions overview\u001b[0m\n",
      "╭────────────┬──────────┬──────────────────────┬───────────────────────┬──────────────┬───────────────┬───────────────────────────┬────────────────┬───────────────╮\n",
      "│ Position   │   Amount │   Pending buy amount │   Pending sell amount │   Cost (EUR) │ Value (EUR)   │ Percentage of portfolio   │ Growth (EUR)   │ Growth_rate   │\n",
      "├────────────┼──────────┼──────────────────────┼───────────────────────┼──────────────┼───────────────┼───────────────────────────┼────────────────┼───────────────┤\n",
      "│ EUR        │  418.176 │                    0 │                     0 │       418.18 │ 418.18 EUR    │ 100.00%                   │ 0.00 EUR       │ 0.00%         │\n",
      "├────────────┼──────────┼──────────────────────┼───────────────────────┼──────────────┼───────────────┼───────────────────────────┼────────────────┼───────────────┤\n",
      "│ BTC        │    0     │                    0 │                     0 │         0    │ 0.00 EUR      │ 0.00%                     │ 0.00 EUR       │ 0.00%         │\n",
      "╰────────────┴──────────┴──────────────────────┴───────────────────────┴──────────────┴───────────────┴───────────────────────────┴────────────────┴───────────────╯\n",
      "\u001b[93mTrades overview\u001b[0m\n",
      "╭───────────────────┬────────────┬──────────────────────┬──────────────────┬──────────────────┬──────────────────┬──────────────┬────────────────────┬───────────────────────┬─────────────────────────────────╮\n",
      "│ Pair (Trade id)   │ Status     │ Amount (remaining)   │ Net gain (EUR)   │ Open date        │ Close date       │ Duration     │   Open price (EUR) │ Close price's (EUR)   │ High water mark                 │\n",
      "├───────────────────┼────────────┼──────────────────────┼──────────────────┼──────────────────┼──────────────────┼──────────────┼────────────────────┼───────────────────────┼─────────────────────────────────┤\n",
      "│ BTC/EUR (1)       │ CLOSED     │ 0.0041 (0.0000) BTC  │ -0.49 (-0.50%)   │ 2023-09-08 10:00 │ 2023-09-10 16:00 │ 54.0 hours   │            24185.3 │ 24065.41              │ 24259.22 EUR (2023-09-08 22:00) │\n",
      "├───────────────────┼────────────┼──────────────────────┼──────────────────┼──────────────────┼──────────────────┼──────────────┼────────────────────┼───────────────────────┼─────────────────────────────────┤\n",
      "│ BTC/EUR (2)       │ CLOSED, SL │ 0.0039 (0.0000) BTC  │ 18.67 (18.93%)   │ 2023-09-27 12:00 │ 2023-11-28 02:00 │ 1478.0 hours │            25291   │ 26235.27, 33919.73    │ 34969.67 EUR (2023-11-24 14:00) │\n",
      "╰───────────────────┴────────────┴──────────────────────┴──────────────────┴──────────────────┴──────────────────┴──────────────┴────────────────────┴───────────────────────┴─────────────────────────────────╯\n",
      "\u001b[93mStop losses overview\u001b[0m\n",
      "╭────────────────────┬───────────────┬──────────┬──────────┬─────────────────────────────────┬──────────────┬────────────────┬───────────────────────────────┬──────────────┬──────────┬───────────────╮\n",
      "│ Trade (Trade id)   │ Status        │ Active   │ Type     │ Stop Loss (Initial Stop Loss)   │ Open price   │   Sell price's │ High water mark               │ Percentage   │ Size     │ Sold amount   │\n",
      "├────────────────────┼───────────────┼──────────┼──────────┼─────────────────────────────────┼──────────────┼────────────────┼───────────────────────────────┼──────────────┼──────────┼───────────────┤\n",
      "│ BTC/EUR (1)        │ NOT TRIGGERED │ False    │ TRAILING │ 23774.04 (23701.63) (2.0)% EUR  │ 24185.34 EUR │        26235.3 │ 24259.22 EUR 2023-09-08 22:00 │ 50.0%        │ 0.00 BTC │               │\n",
      "├────────────────────┼───────────────┼──────────┼──────────┼─────────────────────────────────┼──────────────┼────────────────┼───────────────────────────────┼──────────────┼──────────┼───────────────┤\n",
      "│ BTC/EUR (2)        │ TRIGGERED     │ False    │ TRAILING │ 26602.57 (24785.18) (2.0)% EUR  │ 25291.00 EUR │                │ 27145.48 EUR 2023-10-02 12:00 │ 50.0%        │ 0.00 BTC │ 0.0019 BTC    │\n",
      "╰────────────────────┴───────────────┴──────────┴──────────┴─────────────────────────────────┴──────────────┴────────────────┴───────────────────────────────┴──────────────┴──────────┴───────────────╯\n",
      "\u001b[93mTake profits overview\u001b[0m\n",
      "╭────────────────────┬───────────────┬──────────┬──────────┬─────────────────────────────────────┬──────────────┬────────────────┬─────────────────────────────────┬──────────────┬────────────┬───────────────╮\n",
      "│ Trade (Trade id)   │ Status        │ Active   │ Type     │ Take profit (Initial Take Profit)   │ Open price   │ Sell price's   │ High water mark                 │ Percentage   │ Size       │ Sold amount   │\n",
      "├────────────────────┼───────────────┼──────────┼──────────┼─────────────────────────────────────┼──────────────┼────────────────┼─────────────────────────────────┼──────────────┼────────────┼───────────────┤\n",
      "│ BTC/EUR (1)        │ NOT TRIGGERED │ False    │ TRAILING │ 26120.17 (26120.17) (8.0)% EUR      │ 24185.34 EUR │ None           │                                 │ 50.0%        │ 0.0021 BTC │               │\n",
      "├────────────────────┼───────────────┼──────────┼──────────┼─────────────────────────────────────┼──────────────┼────────────────┼─────────────────────────────────┼──────────────┼────────────┼───────────────┤\n",
      "│ BTC/EUR (2)        │ NOT TRIGGERED │ False    │ TRAILING │ 32172.10 (27314.28) (8.0)% EUR      │ 25291.00 EUR │ None           │ 34969.67 EUR (2023-11-24 14:00) │ 50.0%        │ 0.0019 BTC │               │\n",
      "╰────────────────────┴───────────────┴──────────┴──────────┴─────────────────────────────────────┴──────────────┴────────────────┴─────────────────────────────────┴──────────────┴────────────┴───────────────╯\n",
      "Execution Time: 17.950122 seconds\n"
     ]
    }
   ],
   "source": [
    "import time\n",
    "from datetime import datetime, timedelta\n",
    "from investing_algorithm_framework import create_app, BacktestDateRange, \\\n",
    "    pretty_print_backtest\n",
    "\n",
    "app = create_app(name=\"GoldenCrossStrategy\")\n",
    "app.add_market(market=\"BINANCE\", trading_symbol=\"EUR\", initial_balance=400)\n",
    "# app.add_strategy(CrossOverStrategyV1)\n",
    "end_date = datetime(2023, 12, 2)\n",
    "start_date = end_date - timedelta(days=100)\n",
    "date_range = BacktestDateRange(\n",
    "    start_date=start_date, end_date=end_date\n",
    ")\n",
    "start_time = time.time()\n",
    "algorithm = Algorithm()\n",
    "algorithm.add_strategy(CrossOverStrategyV1)\n",
    "algorithm.add_strategy(CrossOverStrategyV2)\n",
    "\n",
    "backtest_report = app.run_backtest(\n",
    "    backtest_date_range=date_range,\n",
    "    algorithm=algorithm,\n",
    "    save_strategy=True\n",
    ")\n",
    "pretty_print_backtest(backtest_report)\n",
    "end_time = time.time()\n",
    "print(f\"Execution Time: {end_time - start_time:.6f} seconds\")"
   ]
  }
 ],
 "metadata": {
  "kernelspec": {
   "display_name": "investing-algorithm-framework-ygOLr3-a-py3.12",
   "language": "python",
   "name": "python3"
  },
  "language_info": {
   "codemirror_mode": {
    "name": "ipython",
    "version": 3
   },
   "file_extension": ".py",
   "mimetype": "text/x-python",
   "name": "python",
   "nbconvert_exporter": "python",
   "pygments_lexer": "ipython3",
   "version": "3.12.10"
  }
 },
 "nbformat": 4,
 "nbformat_minor": 5
}
