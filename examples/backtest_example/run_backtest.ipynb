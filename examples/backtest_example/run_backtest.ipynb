{
 "cells": [
  {
   "cell_type": "markdown",
   "id": "4f24ab21",
   "metadata": {},
   "source": [
    "## Backtest Pipeline Example\n",
    "In this example, we will run a full backtest pipeline for a trading strategy.\n",
    "\n",
    "### Steps:\n",
    "\n",
    "1. Download a insample dataset to detect backtest date ranges\n",
    "2. Run strategy over each range and save results\n",
    "3. Show results in a backtest report"
   ]
  },
  {
   "cell_type": "markdown",
   "id": "b244f8b2",
   "metadata": {},
   "source": [
    "## Setup constants for backtesting"
   ]
  },
  {
   "cell_type": "code",
   "execution_count": 1,
   "id": "54ea1cd2",
   "metadata": {},
   "outputs": [],
   "source": [
    "# Constants\n",
    "STRATEGY_NAME = 'StrategyV1'\n",
    "DATA_STORAGE_PATH = \"resources/backtest_data\"\n",
    "BACKTEST_RESULTS_STORAGE_PATH = \"resources/backtest_results\"\n",
    "BACKTEST_PERMUTATION_RESULTS_STORAGE_PATH = \"resources/backtest_permutation_results\"\n",
    "\n",
    "# Asset constants\n",
    "INSAMPLE_ASSETS = [\"BTC/EUR\", \"ETH/EUR\"]\n",
    "OUTSAMPLE_ASSETS = [\"XRP/EUR\", \"DOT/EUR\"]\n",
    "\n",
    "# Time range constants\n",
    "INSAMPLE_START_DATE = \"2020-01-01\"\n",
    "INSAMPLE_END_DATE = \"2024-01-01\"\n",
    "OUTSAMPLE_START_DATE = \"2024-01-01\"\n",
    "OUTSAMPLE_END_DATE = \"2025-01-01\""
   ]
  },
  {
   "cell_type": "markdown",
   "id": "0108b62e",
   "metadata": {},
   "source": [
    "## Dynamically loadin the strategy\n",
    "We can dynamically load the strategy from a file. This is useful if we want to change the strategy without restarting the entire\n",
    "notebook. This allows you to edit the strategy and quickly test it."
   ]
  },
  {
   "cell_type": "code",
   "execution_count": 3,
   "id": "2c050324d9a18a3b",
   "metadata": {},
   "outputs": [],
   "source": [
    "import importlib\n",
    "import strategies.strategy_v1 as strategy_module_v1  # Import the module\n",
    "\n",
    "importlib.reload(strategy_module_v1)  # Reload the module\n",
    "configure_strategy = strategy_module_v1.configure_strategy  # Re-bind the class"
   ]
  },
  {
   "cell_type": "markdown",
   "id": "a06788ed",
   "metadata": {},
   "source": [
    "## Select in sample test date ranges\n",
    "\n",
    "Date ranges for in-sample testing should be atleast 2 years long so we can calculate \n",
    "all metrics. Three date ranges are selected, coresponding to an uptrend, a downtrend and a sideways trend. Using these three date ranges we can test the performance of the strategy in different market conditions.\n",
    "\n",
    "We will use a window=730, which means 2-year slices of market behavior that we can use to detect uptrends, downtrends and sideways trends.\n"
   ]
  },
  {
   "cell_type": "code",
   "execution_count": 3,
   "id": "9475af3f",
   "metadata": {},
   "outputs": [
    {
     "name": "stderr",
     "output_type": "stream",
     "text": [
      "Error reading data from resources/backtest_data/BTC_EUR_bitvavo_1h_2020010100_2025063000.csv: ExprStringNameSpace.strptime() got an unexpected keyword argument 'fmt'\n"
     ]
    }
   ],
   "source": [
    "from investing_algorithm_framework import download\n",
    "\n",
    "data = download(\n",
    "    \"BTC/EUR\",\n",
    "    time_frame=\"1h\",\n",
    "    start_date=\"2020-01-01\",\n",
    "    end_date=\"2025-6-30\",\n",
    "    window_size=200,\n",
    "    pandas=True,\n",
    "    market=\"bitvavo\",\n",
    "    storage_path=\"resources/backtest_data\",\n",
    ")"
   ]
  },
  {
   "cell_type": "code",
   "execution_count": 4,
   "id": "251f6779",
   "metadata": {},
   "outputs": [
    {
     "name": "stdout",
     "output_type": "stream",
     "text": [
      "UpTurn: 2020-03-13 01:00:00 - 2022-03-13 01:00:00\n",
      "DownTurn: 2021-03-10 17:00:00 - 2023-03-10 17:00:00\n",
      "SideWays: 2022-01-05 19:00:00 - 2024-01-05 19:00:00\n"
     ]
    }
   ],
   "source": [
    "from investing_algorithm_framework import select_backtest_date_ranges\n",
    "\n",
    "# Select date ranges for backtesting with a window of 730 days (2 years), so\n",
    "# we have clear uptrend, downtrend, and sideways market conditions.\n",
    "ranges = select_backtest_date_ranges(data, window=730)\n",
    "\n",
    "for r in ranges:\n",
    "    print(r)"
   ]
  },
  {
   "cell_type": "markdown",
   "id": "bde4e4c7",
   "metadata": {},
   "source": [
    "## Run in-sample backtest\n",
    "We will run the strategy over each date range and save the results. This allows us to analyze the performance of the strategy in different market conditions. We will save the results to a file so we can analyze them later"
   ]
  },
  {
   "cell_type": "code",
   "execution_count": null,
   "id": "36849215",
   "metadata": {},
   "outputs": [
    {
     "ename": "NameError",
     "evalue": "name 'configure_strategy' is not defined",
     "output_type": "error",
     "traceback": [
      "\u001b[0;31m---------------------------------------------------------------------------\u001b[0m",
      "\u001b[0;31mNameError\u001b[0m                                 Traceback (most recent call last)",
      "Cell \u001b[0;32mIn[3], line 11\u001b[0m\n\u001b[1;32m      6\u001b[0m app \u001b[38;5;241m=\u001b[39m create_app()\n\u001b[1;32m      9\u001b[0m \u001b[38;5;66;03m# Configure the strategy with the insample assets. This will create the\u001b[39;00m\n\u001b[1;32m     10\u001b[0m \u001b[38;5;66;03m# strategy instance configured with the right data providers.\u001b[39;00m\n\u001b[0;32m---> 11\u001b[0m strategy \u001b[38;5;241m=\u001b[39m \u001b[43mconfigure_strategy\u001b[49m(\n\u001b[1;32m     12\u001b[0m     time_unit\u001b[38;5;241m=\u001b[39mTimeUnit\u001b[38;5;241m.\u001b[39mHOUR,\n\u001b[1;32m     13\u001b[0m     interval\u001b[38;5;241m=\u001b[39m\u001b[38;5;241m2\u001b[39m,\n\u001b[1;32m     14\u001b[0m     time_frame\u001b[38;5;241m=\u001b[39mTimeFrame\u001b[38;5;241m.\u001b[39mTWO_HOUR,\n\u001b[1;32m     15\u001b[0m     fast\u001b[38;5;241m=\u001b[39m\u001b[38;5;241m50\u001b[39m,\n\u001b[1;32m     16\u001b[0m     slow\u001b[38;5;241m=\u001b[39m\u001b[38;5;241m100\u001b[39m,\n\u001b[1;32m     17\u001b[0m     trend\u001b[38;5;241m=\u001b[39m\u001b[38;5;241m200\u001b[39m,\n\u001b[1;32m     18\u001b[0m     stop_loss_percentage\u001b[38;5;241m=\u001b[39m\u001b[38;5;241m2\u001b[39m,\n\u001b[1;32m     19\u001b[0m     stop_loss_sell_size\u001b[38;5;241m=\u001b[39m\u001b[38;5;241m50\u001b[39m,\n\u001b[1;32m     20\u001b[0m     take_profit_percentage\u001b[38;5;241m=\u001b[39m\u001b[38;5;241m8\u001b[39m,\n\u001b[1;32m     21\u001b[0m     take_profit_sell_size\u001b[38;5;241m=\u001b[39m\u001b[38;5;241m50\u001b[39m,\n\u001b[1;32m     22\u001b[0m     assets\u001b[38;5;241m=\u001b[39mINSAMPLE_ASSETS\n\u001b[1;32m     23\u001b[0m )\n\u001b[1;32m     24\u001b[0m app\u001b[38;5;241m.\u001b[39madd_strategy(strategy)\n\u001b[1;32m     25\u001b[0m app\u001b[38;5;241m.\u001b[39madd_market(market\u001b[38;5;241m=\u001b[39m\u001b[38;5;124m\"\u001b[39m\u001b[38;5;124mBITVAVO\u001b[39m\u001b[38;5;124m\"\u001b[39m, trading_symbol\u001b[38;5;241m=\u001b[39m\u001b[38;5;124m\"\u001b[39m\u001b[38;5;124mEUR\u001b[39m\u001b[38;5;124m\"\u001b[39m)\n",
      "\u001b[0;31mNameError\u001b[0m: name 'configure_strategy' is not defined"
     ]
    }
   ],
   "source": [
    "from datetime import datetime\n",
    "from investing_algorithm_framework import SnapshotInterval, create_app, \\\n",
    "    TimeUnit, TimeFrame\n",
    "from investing_algorithm_framework import create_app, BacktestDateRange\n",
    "\n",
    "app = create_app()\n",
    "\n",
    "\n",
    "# Configure the strategy with the insample assets. This will create the\n",
    "# strategy instance configured with the right data providers.\n",
    "strategy = configure_strategy(\n",
    "    time_unit=TimeUnit.HOUR,\n",
    "    interval=2,\n",
    "    time_frame=TimeFrame.TWO_HOUR,\n",
    "    fast=50,\n",
    "    slow=100,\n",
    "    trend=200,\n",
    "    stop_loss_percentage=2,\n",
    "    stop_loss_sell_size=50,\n",
    "    take_profit_percentage=8,\n",
    "    take_profit_sell_size=50,\n",
    "    assets=INSAMPLE_ASSETS\n",
    ")\n",
    "app.add_strategy(strategy)\n",
    "app.add_market(market=\"BITVAVO\", trading_symbol=\"EUR\")\n",
    "\n",
    "# ranges = ranges[:1]\n",
    "start_date = datetime(2021, 1, 1)\n",
    "end_date = datetime(2021, 3, 3)\n",
    "ranges = [\n",
    "    BacktestDateRange(\n",
    "        name=\"Insample\",\n",
    "        start_date=start_date,\n",
    "        end_date=end_date\n",
    "    )\n",
    "]\n",
    "\n",
    "for range in ranges:\n",
    "    print(f\"\\nBacktest {range}\")\n",
    "    name = f\"{STRATEGY_NAME}_{range.name.replace(' ', '_')}\"\n",
    "    result = app.run_backtest(\n",
    "        name=name,\n",
    "        backtest_date_range=range,\n",
    "        initial_amount=1000,\n",
    "        snapshot_interval=SnapshotInterval.STRATEGY_ITERATION,\n",
    "        risk_free_rate=2.4,\n",
    "        save=False\n",
    "    )\n"
   ]
  },
  {
   "cell_type": "markdown",
   "id": "77c0b242",
   "metadata": {},
   "source": [
    "## Show in sample backtest results\n"
   ]
  },
  {
   "cell_type": "code",
   "execution_count": 2,
   "id": "5bd35795",
   "metadata": {},
   "outputs": [
    {
     "ename": "NameError",
     "evalue": "name 'result' is not defined",
     "output_type": "error",
     "traceback": [
      "\u001b[0;31m---------------------------------------------------------------------------\u001b[0m",
      "\u001b[0;31mNameError\u001b[0m                                 Traceback (most recent call last)",
      "Cell \u001b[0;32mIn[2], line 4\u001b[0m\n\u001b[1;32m      1\u001b[0m \u001b[38;5;28;01mfrom\u001b[39;00m\u001b[38;5;250m \u001b[39m\u001b[38;5;21;01minvesting_algorithm_framework\u001b[39;00m\u001b[38;5;250m \u001b[39m\u001b[38;5;28;01mimport\u001b[39;00m BacktestReport\n\u001b[1;32m      3\u001b[0m report \u001b[38;5;241m=\u001b[39m BacktestReport\u001b[38;5;241m.\u001b[39mopen(\n\u001b[0;32m----> 4\u001b[0m     backtests\u001b[38;5;241m=\u001b[39m[\u001b[43mresult\u001b[49m]\n\u001b[1;32m      5\u001b[0m )\n\u001b[1;32m      6\u001b[0m report\u001b[38;5;241m.\u001b[39mshow(browser\u001b[38;5;241m=\u001b[39m\u001b[38;5;28;01mTrue\u001b[39;00m)\n",
      "\u001b[0;31mNameError\u001b[0m: name 'result' is not defined"
     ]
    }
   ],
   "source": [
    "from investing_algorithm_framework import BacktestReport\n",
    "\n",
    "report = BacktestReport.open(\n",
    "    backtests=[result]\n",
    ")\n",
    "report.show(browser=True)"
   ]
  }
 ],
 "metadata": {
  "kernelspec": {
   "display_name": "investing-algorithm-framework-ygOLr3-a-py3.12",
   "language": "python",
   "name": "python3"
  },
  "language_info": {
   "codemirror_mode": {
    "name": "ipython",
    "version": 3
   },
   "file_extension": ".py",
   "mimetype": "text/x-python",
   "name": "python",
   "nbconvert_exporter": "python",
   "pygments_lexer": "ipython3",
   "version": "3.12.11"
  }
 },
 "nbformat": 4,
 "nbformat_minor": 5
}
