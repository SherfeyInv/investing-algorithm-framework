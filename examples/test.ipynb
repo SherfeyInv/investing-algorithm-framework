{
 "cells": [
  {
   "cell_type": "code",
   "execution_count": null,
   "id": "89646247",
   "metadata": {},
   "outputs": [
    {
     "name": "stdout",
     "output_type": "stream",
     "text": [
      "True\n",
      "Converting Polars DataFrame to Pandas DataFrame...\n",
      "adding index to the DataFrame...\n",
      "[(datetime.datetime(2023, 2, 10, 0, 0), inf), (datetime.datetime(2023, 2, 2, 2, 0), inf), (datetime.datetime(2023, 2, 23, 2, 0), inf), (datetime.datetime(2023, 3, 9, 2, 0), 10.47846033907749), (datetime.datetime(2023, 2, 9, 22, 0), 3.787806658326117), (datetime.datetime(2023, 3, 1, 8, 0), 5.037269050853196), (datetime.datetime(2023, 3, 9, 22, 0), 3.9737358556256233), (datetime.datetime(2023, 2, 24, 18, 0), 2.7024739055606846), (datetime.datetime(2023, 3, 3, 2, 0), 1.5814476094905998), (datetime.datetime(2023, 3, 8, 6, 0), 1.30182276726722), (datetime.datetime(2023, 5, 17, 22, 0), 2.292859974792208), (datetime.datetime(2023, 3, 31, 22, 0), 2.570543452343852), (datetime.datetime(2023, 4, 21, 22, 0), 2.4387711793577007), (datetime.datetime(2023, 5, 22, 12, 0), 2.6516121803860377), (datetime.datetime(2023, 4, 21, 20, 0), 2.268736564448828), (datetime.datetime(2023, 4, 26, 2, 0), 2.338702829149246), (datetime.datetime(2023, 5, 4, 4, 0), 2.3582834275026507), (datetime.datetime(2023, 5, 8, 20, 0), 2.044824728072192), (datetime.datetime(2023, 5, 8, 20, 0), 1.8214610578067614), (datetime.datetime(2023, 5, 17, 6, 0), 1.8179393857966062), (datetime.datetime(2023, 5, 17, 6, 0), 1.8367793549958848), (datetime.datetime(2023, 6, 2, 10, 0), 1.9462724865547587), (datetime.datetime(2023, 6, 7, 0, 0), 2.0027118699247333), (datetime.datetime(2023, 6, 8, 20, 0), 1.8243523142966116), (datetime.datetime(2023, 6, 15, 0, 0), 1.6154783859213722), (datetime.datetime(2023, 6, 20, 22, 0), 1.6909440501083466), (datetime.datetime(2023, 8, 8, 2, 0), 1.8658826009377618), (datetime.datetime(2023, 7, 13, 20, 0), 2.1069196270663157), (datetime.datetime(2023, 9, 27, 16, 0), 2.2277003914907194), (datetime.datetime(2023, 7, 12, 22, 0), 2.0673372805499346), (datetime.datetime(2023, 8, 15, 22, 0), 1.9222142347446267), (datetime.datetime(2023, 7, 20, 12, 0), 1.89962971854536), (datetime.datetime(2023, 8, 17, 18, 0), 1.7687129581072525), (datetime.datetime(2023, 8, 14, 10, 0), 1.7709328109206495), (datetime.datetime(2023, 8, 18, 0, 0), 1.6100716571740032), (datetime.datetime(2023, 8, 18, 4, 0), 1.501578181269685), (datetime.datetime(2023, 9, 5, 14, 0), 1.4996554565318754), (datetime.datetime(2023, 9, 1, 0, 0), 1.4224599866665246), (datetime.datetime(2023, 10, 23, 8, 0), 1.5903187721952656), (datetime.datetime(2023, 9, 7, 2, 0), 1.601980346335513), (datetime.datetime(2023, 9, 11, 22, 0), 1.5226781662386026), (datetime.datetime(2023, 9, 25, 22, 0), 1.5384072547609218), (datetime.datetime(2023, 9, 18, 8, 0), 1.5730169320606853), (datetime.datetime(2023, 9, 27, 14, 0), 1.5765895061269957), (datetime.datetime(2023, 10, 10, 14, 0), 1.5049237501372394), (datetime.datetime(2023, 12, 4, 4, 0), 1.747671572288288), (datetime.datetime(2023, 11, 15, 2, 0), 1.9730337269876048), (datetime.datetime(2023, 11, 17, 16, 0), 1.8237141452148775), (datetime.datetime(2023, 11, 22, 10, 0), 1.8373893634495957), (datetime.datetime(2023, 12, 28, 4, 0), 1.756992853379351)]\n",
      "Profit Factor: 1.756992853379351\n",
      "Sharp Ratio: 1.4720541632187893\n",
      "364\n",
      "21.69859370914789\n",
      "Timestamps: (datetime.datetime(2023, 2, 10, 0, 0), datetime.datetime(2023, 2, 2, 2, 0), datetime.datetime(2023, 2, 23, 2, 0), datetime.datetime(2023, 3, 9, 2, 0), datetime.datetime(2023, 2, 9, 22, 0), datetime.datetime(2023, 3, 1, 8, 0), datetime.datetime(2023, 3, 9, 22, 0), datetime.datetime(2023, 2, 24, 18, 0), datetime.datetime(2023, 3, 3, 2, 0), datetime.datetime(2023, 3, 8, 6, 0), datetime.datetime(2023, 5, 17, 22, 0), datetime.datetime(2023, 3, 31, 22, 0), datetime.datetime(2023, 4, 21, 22, 0), datetime.datetime(2023, 5, 22, 12, 0), datetime.datetime(2023, 4, 21, 20, 0), datetime.datetime(2023, 4, 26, 2, 0), datetime.datetime(2023, 5, 4, 4, 0), datetime.datetime(2023, 5, 8, 20, 0), datetime.datetime(2023, 5, 8, 20, 0), datetime.datetime(2023, 5, 17, 6, 0), datetime.datetime(2023, 5, 17, 6, 0), datetime.datetime(2023, 6, 2, 10, 0), datetime.datetime(2023, 6, 7, 0, 0), datetime.datetime(2023, 6, 8, 20, 0), datetime.datetime(2023, 6, 15, 0, 0), datetime.datetime(2023, 6, 20, 22, 0), datetime.datetime(2023, 8, 8, 2, 0), datetime.datetime(2023, 7, 13, 20, 0), datetime.datetime(2023, 9, 27, 16, 0), datetime.datetime(2023, 7, 12, 22, 0), datetime.datetime(2023, 8, 15, 22, 0), datetime.datetime(2023, 7, 20, 12, 0), datetime.datetime(2023, 8, 17, 18, 0), datetime.datetime(2023, 8, 14, 10, 0), datetime.datetime(2023, 8, 18, 0, 0), datetime.datetime(2023, 8, 18, 4, 0), datetime.datetime(2023, 9, 5, 14, 0), datetime.datetime(2023, 9, 1, 0, 0), datetime.datetime(2023, 10, 23, 8, 0), datetime.datetime(2023, 9, 7, 2, 0), datetime.datetime(2023, 9, 11, 22, 0), datetime.datetime(2023, 9, 25, 22, 0), datetime.datetime(2023, 9, 18, 8, 0), datetime.datetime(2023, 9, 27, 14, 0), datetime.datetime(2023, 10, 10, 14, 0), datetime.datetime(2023, 12, 4, 4, 0), datetime.datetime(2023, 11, 15, 2, 0), datetime.datetime(2023, 11, 17, 16, 0), datetime.datetime(2023, 11, 22, 10, 0), datetime.datetime(2023, 12, 28, 4, 0))\n"
     ]
    },
    {
     "data": {
      "application/vnd.plotly.v1+json": {
       "config": {
        "plotlyServerURL": "https://plot.ly"
       },
       "data": [
        {
         "line": {
          "color": "orange",
          "width": 2
         },
         "mode": "lines",
         "name": "BTC/EUR Log Close",
         "type": "scatter",
         "x": [
          "2023-01-01T00:00:00.000000000",
          "2023-01-02T00:00:00.000000000",
          "2023-01-03T00:00:00.000000000",
          "2023-01-04T00:00:00.000000000",
          "2023-01-05T00:00:00.000000000",
          "2023-01-06T00:00:00.000000000",
          "2023-01-07T00:00:00.000000000",
          "2023-01-08T00:00:00.000000000",
          "2023-01-09T00:00:00.000000000",
          "2023-01-10T00:00:00.000000000",
          "2023-01-11T00:00:00.000000000",
          "2023-01-12T00:00:00.000000000",
          "2023-01-13T00:00:00.000000000",
          "2023-01-14T00:00:00.000000000",
          "2023-01-15T00:00:00.000000000",
          "2023-01-16T00:00:00.000000000",
          "2023-01-17T00:00:00.000000000",
          "2023-01-18T00:00:00.000000000",
          "2023-01-19T00:00:00.000000000",
          "2023-01-20T00:00:00.000000000",
          "2023-01-21T00:00:00.000000000",
          "2023-01-22T00:00:00.000000000",
          "2023-01-23T00:00:00.000000000",
          "2023-01-24T00:00:00.000000000",
          "2023-01-25T00:00:00.000000000",
          "2023-01-26T00:00:00.000000000",
          "2023-01-27T00:00:00.000000000",
          "2023-01-28T00:00:00.000000000",
          "2023-01-29T00:00:00.000000000",
          "2023-01-30T00:00:00.000000000",
          "2023-01-31T00:00:00.000000000",
          "2023-02-01T00:00:00.000000000",
          "2023-02-02T00:00:00.000000000",
          "2023-02-03T00:00:00.000000000",
          "2023-02-04T00:00:00.000000000",
          "2023-02-05T00:00:00.000000000",
          "2023-02-06T00:00:00.000000000",
          "2023-02-07T00:00:00.000000000",
          "2023-02-08T00:00:00.000000000",
          "2023-02-09T00:00:00.000000000",
          "2023-02-10T00:00:00.000000000",
          "2023-02-11T00:00:00.000000000",
          "2023-02-12T00:00:00.000000000",
          "2023-02-13T00:00:00.000000000",
          "2023-02-14T00:00:00.000000000",
          "2023-02-15T00:00:00.000000000",
          "2023-02-16T00:00:00.000000000",
          "2023-02-17T00:00:00.000000000",
          "2023-02-18T00:00:00.000000000",
          "2023-02-19T00:00:00.000000000",
          "2023-02-20T00:00:00.000000000",
          "2023-02-21T00:00:00.000000000",
          "2023-02-22T00:00:00.000000000",
          "2023-02-23T00:00:00.000000000",
          "2023-02-24T00:00:00.000000000",
          "2023-02-25T00:00:00.000000000",
          "2023-02-26T00:00:00.000000000",
          "2023-02-27T00:00:00.000000000",
          "2023-02-28T00:00:00.000000000",
          "2023-03-01T00:00:00.000000000",
          "2023-03-02T00:00:00.000000000",
          "2023-03-03T00:00:00.000000000",
          "2023-03-04T00:00:00.000000000",
          "2023-03-05T00:00:00.000000000",
          "2023-03-06T00:00:00.000000000",
          "2023-03-07T00:00:00.000000000",
          "2023-03-08T00:00:00.000000000",
          "2023-03-09T00:00:00.000000000",
          "2023-03-10T00:00:00.000000000",
          "2023-03-11T00:00:00.000000000",
          "2023-03-12T00:00:00.000000000",
          "2023-03-13T00:00:00.000000000",
          "2023-03-14T00:00:00.000000000",
          "2023-03-15T00:00:00.000000000",
          "2023-03-16T00:00:00.000000000",
          "2023-03-17T00:00:00.000000000",
          "2023-03-18T00:00:00.000000000",
          "2023-03-19T00:00:00.000000000",
          "2023-03-20T00:00:00.000000000",
          "2023-03-21T00:00:00.000000000",
          "2023-03-22T00:00:00.000000000",
          "2023-03-23T00:00:00.000000000",
          "2023-03-24T00:00:00.000000000",
          "2023-03-25T00:00:00.000000000",
          "2023-03-26T00:00:00.000000000",
          "2023-03-27T00:00:00.000000000",
          "2023-03-28T00:00:00.000000000",
          "2023-03-29T00:00:00.000000000",
          "2023-03-30T00:00:00.000000000",
          "2023-03-31T00:00:00.000000000",
          "2023-04-01T00:00:00.000000000",
          "2023-04-02T00:00:00.000000000",
          "2023-04-03T00:00:00.000000000",
          "2023-04-04T00:00:00.000000000",
          "2023-04-05T00:00:00.000000000",
          "2023-04-06T00:00:00.000000000",
          "2023-04-07T00:00:00.000000000",
          "2023-04-08T00:00:00.000000000",
          "2023-04-09T00:00:00.000000000",
          "2023-04-10T00:00:00.000000000",
          "2023-04-11T00:00:00.000000000",
          "2023-04-12T00:00:00.000000000",
          "2023-04-13T00:00:00.000000000",
          "2023-04-14T00:00:00.000000000",
          "2023-04-15T00:00:00.000000000",
          "2023-04-16T00:00:00.000000000",
          "2023-04-17T00:00:00.000000000",
          "2023-04-18T00:00:00.000000000",
          "2023-04-19T00:00:00.000000000",
          "2023-04-20T00:00:00.000000000",
          "2023-04-21T00:00:00.000000000",
          "2023-04-22T00:00:00.000000000",
          "2023-04-23T00:00:00.000000000",
          "2023-04-24T00:00:00.000000000",
          "2023-04-25T00:00:00.000000000",
          "2023-04-26T00:00:00.000000000",
          "2023-04-27T00:00:00.000000000",
          "2023-04-28T00:00:00.000000000",
          "2023-04-29T00:00:00.000000000",
          "2023-04-30T00:00:00.000000000",
          "2023-05-01T00:00:00.000000000",
          "2023-05-02T00:00:00.000000000",
          "2023-05-03T00:00:00.000000000",
          "2023-05-04T00:00:00.000000000",
          "2023-05-05T00:00:00.000000000",
          "2023-05-06T00:00:00.000000000",
          "2023-05-07T00:00:00.000000000",
          "2023-05-08T00:00:00.000000000",
          "2023-05-09T00:00:00.000000000",
          "2023-05-10T00:00:00.000000000",
          "2023-05-11T00:00:00.000000000",
          "2023-05-12T00:00:00.000000000",
          "2023-05-13T00:00:00.000000000",
          "2023-05-14T00:00:00.000000000",
          "2023-05-15T00:00:00.000000000",
          "2023-05-16T00:00:00.000000000",
          "2023-05-17T00:00:00.000000000",
          "2023-05-18T00:00:00.000000000",
          "2023-05-19T00:00:00.000000000",
          "2023-05-20T00:00:00.000000000",
          "2023-05-21T00:00:00.000000000",
          "2023-05-22T00:00:00.000000000",
          "2023-05-23T00:00:00.000000000",
          "2023-05-24T00:00:00.000000000",
          "2023-05-25T00:00:00.000000000",
          "2023-05-26T00:00:00.000000000",
          "2023-05-27T00:00:00.000000000",
          "2023-05-28T00:00:00.000000000",
          "2023-05-29T00:00:00.000000000",
          "2023-05-30T00:00:00.000000000",
          "2023-05-31T00:00:00.000000000",
          "2023-06-01T00:00:00.000000000",
          "2023-06-02T00:00:00.000000000",
          "2023-06-03T00:00:00.000000000",
          "2023-06-04T00:00:00.000000000",
          "2023-06-05T00:00:00.000000000",
          "2023-06-06T00:00:00.000000000",
          "2023-06-07T00:00:00.000000000",
          "2023-06-08T00:00:00.000000000",
          "2023-06-09T00:00:00.000000000",
          "2023-06-10T00:00:00.000000000",
          "2023-06-11T00:00:00.000000000",
          "2023-06-12T00:00:00.000000000",
          "2023-06-13T00:00:00.000000000",
          "2023-06-14T00:00:00.000000000",
          "2023-06-15T00:00:00.000000000",
          "2023-06-16T00:00:00.000000000",
          "2023-06-17T00:00:00.000000000",
          "2023-06-18T00:00:00.000000000",
          "2023-06-19T00:00:00.000000000",
          "2023-06-20T00:00:00.000000000",
          "2023-06-21T00:00:00.000000000",
          "2023-06-22T00:00:00.000000000",
          "2023-06-23T00:00:00.000000000",
          "2023-06-24T00:00:00.000000000",
          "2023-06-25T00:00:00.000000000",
          "2023-06-26T00:00:00.000000000",
          "2023-06-27T00:00:00.000000000",
          "2023-06-28T00:00:00.000000000",
          "2023-06-29T00:00:00.000000000",
          "2023-06-30T00:00:00.000000000",
          "2023-07-01T00:00:00.000000000",
          "2023-07-02T00:00:00.000000000",
          "2023-07-03T00:00:00.000000000",
          "2023-07-04T00:00:00.000000000",
          "2023-07-05T00:00:00.000000000",
          "2023-07-06T00:00:00.000000000",
          "2023-07-07T00:00:00.000000000",
          "2023-07-08T00:00:00.000000000",
          "2023-07-09T00:00:00.000000000",
          "2023-07-10T00:00:00.000000000",
          "2023-07-11T00:00:00.000000000",
          "2023-07-12T00:00:00.000000000",
          "2023-07-13T00:00:00.000000000",
          "2023-07-14T00:00:00.000000000",
          "2023-07-15T00:00:00.000000000",
          "2023-07-16T00:00:00.000000000",
          "2023-07-17T00:00:00.000000000",
          "2023-07-18T00:00:00.000000000",
          "2023-07-19T00:00:00.000000000",
          "2023-07-20T00:00:00.000000000",
          "2023-07-21T00:00:00.000000000",
          "2023-07-22T00:00:00.000000000",
          "2023-07-23T00:00:00.000000000",
          "2023-07-24T00:00:00.000000000",
          "2023-07-25T00:00:00.000000000",
          "2023-07-26T00:00:00.000000000",
          "2023-07-27T00:00:00.000000000",
          "2023-07-28T00:00:00.000000000",
          "2023-07-29T00:00:00.000000000",
          "2023-07-30T00:00:00.000000000",
          "2023-07-31T00:00:00.000000000",
          "2023-08-01T00:00:00.000000000",
          "2023-08-02T00:00:00.000000000",
          "2023-08-03T00:00:00.000000000",
          "2023-08-04T00:00:00.000000000",
          "2023-08-05T00:00:00.000000000",
          "2023-08-06T00:00:00.000000000",
          "2023-08-07T00:00:00.000000000",
          "2023-08-08T00:00:00.000000000",
          "2023-08-09T00:00:00.000000000",
          "2023-08-10T00:00:00.000000000",
          "2023-08-11T00:00:00.000000000",
          "2023-08-12T00:00:00.000000000",
          "2023-08-13T00:00:00.000000000",
          "2023-08-14T00:00:00.000000000",
          "2023-08-15T00:00:00.000000000",
          "2023-08-16T00:00:00.000000000",
          "2023-08-17T00:00:00.000000000",
          "2023-08-18T00:00:00.000000000",
          "2023-08-19T00:00:00.000000000",
          "2023-08-20T00:00:00.000000000",
          "2023-08-21T00:00:00.000000000",
          "2023-08-22T00:00:00.000000000",
          "2023-08-23T00:00:00.000000000",
          "2023-08-24T00:00:00.000000000",
          "2023-08-25T00:00:00.000000000",
          "2023-08-26T00:00:00.000000000",
          "2023-08-27T00:00:00.000000000",
          "2023-08-28T00:00:00.000000000",
          "2023-08-29T00:00:00.000000000",
          "2023-08-30T00:00:00.000000000",
          "2023-08-31T00:00:00.000000000",
          "2023-09-01T00:00:00.000000000",
          "2023-09-02T00:00:00.000000000",
          "2023-09-03T00:00:00.000000000",
          "2023-09-04T00:00:00.000000000",
          "2023-09-05T00:00:00.000000000",
          "2023-09-06T00:00:00.000000000",
          "2023-09-07T00:00:00.000000000",
          "2023-09-08T00:00:00.000000000",
          "2023-09-09T00:00:00.000000000",
          "2023-09-10T00:00:00.000000000",
          "2023-09-11T00:00:00.000000000",
          "2023-09-12T00:00:00.000000000",
          "2023-09-13T00:00:00.000000000",
          "2023-09-14T00:00:00.000000000",
          "2023-09-15T00:00:00.000000000",
          "2023-09-16T00:00:00.000000000",
          "2023-09-17T00:00:00.000000000",
          "2023-09-18T00:00:00.000000000",
          "2023-09-19T00:00:00.000000000",
          "2023-09-20T00:00:00.000000000",
          "2023-09-21T00:00:00.000000000",
          "2023-09-22T00:00:00.000000000",
          "2023-09-23T00:00:00.000000000",
          "2023-09-24T00:00:00.000000000",
          "2023-09-25T00:00:00.000000000",
          "2023-09-26T00:00:00.000000000",
          "2023-09-27T00:00:00.000000000",
          "2023-09-28T00:00:00.000000000",
          "2023-09-29T00:00:00.000000000",
          "2023-09-30T00:00:00.000000000",
          "2023-10-01T00:00:00.000000000",
          "2023-10-02T00:00:00.000000000",
          "2023-10-03T00:00:00.000000000",
          "2023-10-04T00:00:00.000000000",
          "2023-10-05T00:00:00.000000000",
          "2023-10-06T00:00:00.000000000",
          "2023-10-07T00:00:00.000000000",
          "2023-10-08T00:00:00.000000000",
          "2023-10-09T00:00:00.000000000",
          "2023-10-10T00:00:00.000000000",
          "2023-10-11T00:00:00.000000000",
          "2023-10-12T00:00:00.000000000",
          "2023-10-13T00:00:00.000000000",
          "2023-10-14T00:00:00.000000000",
          "2023-10-15T00:00:00.000000000",
          "2023-10-16T00:00:00.000000000",
          "2023-10-17T00:00:00.000000000",
          "2023-10-18T00:00:00.000000000",
          "2023-10-19T00:00:00.000000000",
          "2023-10-20T00:00:00.000000000",
          "2023-10-21T00:00:00.000000000",
          "2023-10-22T00:00:00.000000000",
          "2023-10-23T00:00:00.000000000",
          "2023-10-24T00:00:00.000000000",
          "2023-10-25T00:00:00.000000000",
          "2023-10-26T00:00:00.000000000",
          "2023-10-27T00:00:00.000000000",
          "2023-10-28T00:00:00.000000000",
          "2023-10-29T00:00:00.000000000",
          "2023-10-30T00:00:00.000000000",
          "2023-10-31T00:00:00.000000000",
          "2023-11-01T00:00:00.000000000",
          "2023-11-02T00:00:00.000000000",
          "2023-11-03T00:00:00.000000000",
          "2023-11-04T00:00:00.000000000",
          "2023-11-05T00:00:00.000000000",
          "2023-11-06T00:00:00.000000000",
          "2023-11-07T00:00:00.000000000",
          "2023-11-08T00:00:00.000000000",
          "2023-11-09T00:00:00.000000000",
          "2023-11-10T00:00:00.000000000",
          "2023-11-11T00:00:00.000000000",
          "2023-11-12T00:00:00.000000000",
          "2023-11-13T00:00:00.000000000",
          "2023-11-14T00:00:00.000000000",
          "2023-11-15T00:00:00.000000000",
          "2023-11-16T00:00:00.000000000",
          "2023-11-17T00:00:00.000000000",
          "2023-11-18T00:00:00.000000000",
          "2023-11-19T00:00:00.000000000",
          "2023-11-20T00:00:00.000000000",
          "2023-11-21T00:00:00.000000000",
          "2023-11-22T00:00:00.000000000",
          "2023-11-23T00:00:00.000000000",
          "2023-11-24T00:00:00.000000000",
          "2023-11-25T00:00:00.000000000",
          "2023-11-26T00:00:00.000000000",
          "2023-11-27T00:00:00.000000000",
          "2023-11-28T00:00:00.000000000",
          "2023-11-29T00:00:00.000000000",
          "2023-11-30T00:00:00.000000000",
          "2023-12-01T00:00:00.000000000",
          "2023-12-02T00:00:00.000000000",
          "2023-12-03T00:00:00.000000000",
          "2023-12-04T00:00:00.000000000",
          "2023-12-05T00:00:00.000000000",
          "2023-12-06T00:00:00.000000000",
          "2023-12-07T00:00:00.000000000",
          "2023-12-08T00:00:00.000000000",
          "2023-12-09T00:00:00.000000000",
          "2023-12-10T00:00:00.000000000",
          "2023-12-11T00:00:00.000000000",
          "2023-12-12T00:00:00.000000000",
          "2023-12-13T00:00:00.000000000",
          "2023-12-14T00:00:00.000000000",
          "2023-12-15T00:00:00.000000000",
          "2023-12-16T00:00:00.000000000",
          "2023-12-17T00:00:00.000000000",
          "2023-12-18T00:00:00.000000000",
          "2023-12-19T00:00:00.000000000",
          "2023-12-20T00:00:00.000000000",
          "2023-12-21T00:00:00.000000000",
          "2023-12-22T00:00:00.000000000",
          "2023-12-23T00:00:00.000000000",
          "2023-12-24T00:00:00.000000000",
          "2023-12-25T00:00:00.000000000",
          "2023-12-26T00:00:00.000000000",
          "2023-12-27T00:00:00.000000000",
          "2023-12-28T00:00:00.000000000",
          "2023-12-29T00:00:00.000000000",
          "2023-12-30T00:00:00.000000000",
          "2023-12-31T00:00:00.000000000"
         ],
         "y": {
          "bdata": "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",
          "dtype": "f8"
         }
        }
       ],
       "layout": {
        "annotations": [
         {
          "align": "left",
          "bgcolor": "black",
          "bordercolor": "orange",
          "font": {
           "color": "orange",
           "size": 18
          },
          "showarrow": false,
          "text": "Strategy Profit Factor: <b>1.76</b>, Sharpe Ratio: <b>1.47</b>",
          "x": 0.01,
          "xref": "paper",
          "y": 0.95,
          "yref": "paper"
         }
        ],
        "font": {
         "color": "lime"
        },
        "hovermode": "x unified",
        "legend": {
         "bgcolor": "rgba(0,0,0,0)",
         "bordercolor": "white",
         "font": {
          "color": "white"
         }
        },
        "paper_bgcolor": "black",
        "plot_bgcolor": "black",
        "template": {
         "data": {
          "bar": [
           {
            "error_x": {
             "color": "#2a3f5f"
            },
            "error_y": {
             "color": "#2a3f5f"
            },
            "marker": {
             "line": {
              "color": "#E5ECF6",
              "width": 0.5
             },
             "pattern": {
              "fillmode": "overlay",
              "size": 10,
              "solidity": 0.2
             }
            },
            "type": "bar"
           }
          ],
          "barpolar": [
           {
            "marker": {
             "line": {
              "color": "#E5ECF6",
              "width": 0.5
             },
             "pattern": {
              "fillmode": "overlay",
              "size": 10,
              "solidity": 0.2
             }
            },
            "type": "barpolar"
           }
          ],
          "carpet": [
           {
            "aaxis": {
             "endlinecolor": "#2a3f5f",
             "gridcolor": "white",
             "linecolor": "white",
             "minorgridcolor": "white",
             "startlinecolor": "#2a3f5f"
            },
            "baxis": {
             "endlinecolor": "#2a3f5f",
             "gridcolor": "white",
             "linecolor": "white",
             "minorgridcolor": "white",
             "startlinecolor": "#2a3f5f"
            },
            "type": "carpet"
           }
          ],
          "choropleth": [
           {
            "colorbar": {
             "outlinewidth": 0,
             "ticks": ""
            },
            "type": "choropleth"
           }
          ],
          "contour": [
           {
            "colorbar": {
             "outlinewidth": 0,
             "ticks": ""
            },
            "colorscale": [
             [
              0,
              "#0d0887"
             ],
             [
              0.1111111111111111,
              "#46039f"
             ],
             [
              0.2222222222222222,
              "#7201a8"
             ],
             [
              0.3333333333333333,
              "#9c179e"
             ],
             [
              0.4444444444444444,
              "#bd3786"
             ],
             [
              0.5555555555555556,
              "#d8576b"
             ],
             [
              0.6666666666666666,
              "#ed7953"
             ],
             [
              0.7777777777777778,
              "#fb9f3a"
             ],
             [
              0.8888888888888888,
              "#fdca26"
             ],
             [
              1,
              "#f0f921"
             ]
            ],
            "type": "contour"
           }
          ],
          "contourcarpet": [
           {
            "colorbar": {
             "outlinewidth": 0,
             "ticks": ""
            },
            "type": "contourcarpet"
           }
          ],
          "heatmap": [
           {
            "colorbar": {
             "outlinewidth": 0,
             "ticks": ""
            },
            "colorscale": [
             [
              0,
              "#0d0887"
             ],
             [
              0.1111111111111111,
              "#46039f"
             ],
             [
              0.2222222222222222,
              "#7201a8"
             ],
             [
              0.3333333333333333,
              "#9c179e"
             ],
             [
              0.4444444444444444,
              "#bd3786"
             ],
             [
              0.5555555555555556,
              "#d8576b"
             ],
             [
              0.6666666666666666,
              "#ed7953"
             ],
             [
              0.7777777777777778,
              "#fb9f3a"
             ],
             [
              0.8888888888888888,
              "#fdca26"
             ],
             [
              1,
              "#f0f921"
             ]
            ],
            "type": "heatmap"
           }
          ],
          "histogram": [
           {
            "marker": {
             "pattern": {
              "fillmode": "overlay",
              "size": 10,
              "solidity": 0.2
             }
            },
            "type": "histogram"
           }
          ],
          "histogram2d": [
           {
            "colorbar": {
             "outlinewidth": 0,
             "ticks": ""
            },
            "colorscale": [
             [
              0,
              "#0d0887"
             ],
             [
              0.1111111111111111,
              "#46039f"
             ],
             [
              0.2222222222222222,
              "#7201a8"
             ],
             [
              0.3333333333333333,
              "#9c179e"
             ],
             [
              0.4444444444444444,
              "#bd3786"
             ],
             [
              0.5555555555555556,
              "#d8576b"
             ],
             [
              0.6666666666666666,
              "#ed7953"
             ],
             [
              0.7777777777777778,
              "#fb9f3a"
             ],
             [
              0.8888888888888888,
              "#fdca26"
             ],
             [
              1,
              "#f0f921"
             ]
            ],
            "type": "histogram2d"
           }
          ],
          "histogram2dcontour": [
           {
            "colorbar": {
             "outlinewidth": 0,
             "ticks": ""
            },
            "colorscale": [
             [
              0,
              "#0d0887"
             ],
             [
              0.1111111111111111,
              "#46039f"
             ],
             [
              0.2222222222222222,
              "#7201a8"
             ],
             [
              0.3333333333333333,
              "#9c179e"
             ],
             [
              0.4444444444444444,
              "#bd3786"
             ],
             [
              0.5555555555555556,
              "#d8576b"
             ],
             [
              0.6666666666666666,
              "#ed7953"
             ],
             [
              0.7777777777777778,
              "#fb9f3a"
             ],
             [
              0.8888888888888888,
              "#fdca26"
             ],
             [
              1,
              "#f0f921"
             ]
            ],
            "type": "histogram2dcontour"
           }
          ],
          "mesh3d": [
           {
            "colorbar": {
             "outlinewidth": 0,
             "ticks": ""
            },
            "type": "mesh3d"
           }
          ],
          "parcoords": [
           {
            "line": {
             "colorbar": {
              "outlinewidth": 0,
              "ticks": ""
             }
            },
            "type": "parcoords"
           }
          ],
          "pie": [
           {
            "automargin": true,
            "type": "pie"
           }
          ],
          "scatter": [
           {
            "fillpattern": {
             "fillmode": "overlay",
             "size": 10,
             "solidity": 0.2
            },
            "type": "scatter"
           }
          ],
          "scatter3d": [
           {
            "line": {
             "colorbar": {
              "outlinewidth": 0,
              "ticks": ""
             }
            },
            "marker": {
             "colorbar": {
              "outlinewidth": 0,
              "ticks": ""
             }
            },
            "type": "scatter3d"
           }
          ],
          "scattercarpet": [
           {
            "marker": {
             "colorbar": {
              "outlinewidth": 0,
              "ticks": ""
             }
            },
            "type": "scattercarpet"
           }
          ],
          "scattergeo": [
           {
            "marker": {
             "colorbar": {
              "outlinewidth": 0,
              "ticks": ""
             }
            },
            "type": "scattergeo"
           }
          ],
          "scattergl": [
           {
            "marker": {
             "colorbar": {
              "outlinewidth": 0,
              "ticks": ""
             }
            },
            "type": "scattergl"
           }
          ],
          "scattermap": [
           {
            "marker": {
             "colorbar": {
              "outlinewidth": 0,
              "ticks": ""
             }
            },
            "type": "scattermap"
           }
          ],
          "scattermapbox": [
           {
            "marker": {
             "colorbar": {
              "outlinewidth": 0,
              "ticks": ""
             }
            },
            "type": "scattermapbox"
           }
          ],
          "scatterpolar": [
           {
            "marker": {
             "colorbar": {
              "outlinewidth": 0,
              "ticks": ""
             }
            },
            "type": "scatterpolar"
           }
          ],
          "scatterpolargl": [
           {
            "marker": {
             "colorbar": {
              "outlinewidth": 0,
              "ticks": ""
             }
            },
            "type": "scatterpolargl"
           }
          ],
          "scatterternary": [
           {
            "marker": {
             "colorbar": {
              "outlinewidth": 0,
              "ticks": ""
             }
            },
            "type": "scatterternary"
           }
          ],
          "surface": [
           {
            "colorbar": {
             "outlinewidth": 0,
             "ticks": ""
            },
            "colorscale": [
             [
              0,
              "#0d0887"
             ],
             [
              0.1111111111111111,
              "#46039f"
             ],
             [
              0.2222222222222222,
              "#7201a8"
             ],
             [
              0.3333333333333333,
              "#9c179e"
             ],
             [
              0.4444444444444444,
              "#bd3786"
             ],
             [
              0.5555555555555556,
              "#d8576b"
             ],
             [
              0.6666666666666666,
              "#ed7953"
             ],
             [
              0.7777777777777778,
              "#fb9f3a"
             ],
             [
              0.8888888888888888,
              "#fdca26"
             ],
             [
              1,
              "#f0f921"
             ]
            ],
            "type": "surface"
           }
          ],
          "table": [
           {
            "cells": {
             "fill": {
              "color": "#EBF0F8"
             },
             "line": {
              "color": "white"
             }
            },
            "header": {
             "fill": {
              "color": "#C8D4E3"
             },
             "line": {
              "color": "white"
             }
            },
            "type": "table"
           }
          ]
         },
         "layout": {
          "annotationdefaults": {
           "arrowcolor": "#2a3f5f",
           "arrowhead": 0,
           "arrowwidth": 1
          },
          "autotypenumbers": "strict",
          "coloraxis": {
           "colorbar": {
            "outlinewidth": 0,
            "ticks": ""
           }
          },
          "colorscale": {
           "diverging": [
            [
             0,
             "#8e0152"
            ],
            [
             0.1,
             "#c51b7d"
            ],
            [
             0.2,
             "#de77ae"
            ],
            [
             0.3,
             "#f1b6da"
            ],
            [
             0.4,
             "#fde0ef"
            ],
            [
             0.5,
             "#f7f7f7"
            ],
            [
             0.6,
             "#e6f5d0"
            ],
            [
             0.7,
             "#b8e186"
            ],
            [
             0.8,
             "#7fbc41"
            ],
            [
             0.9,
             "#4d9221"
            ],
            [
             1,
             "#276419"
            ]
           ],
           "sequential": [
            [
             0,
             "#0d0887"
            ],
            [
             0.1111111111111111,
             "#46039f"
            ],
            [
             0.2222222222222222,
             "#7201a8"
            ],
            [
             0.3333333333333333,
             "#9c179e"
            ],
            [
             0.4444444444444444,
             "#bd3786"
            ],
            [
             0.5555555555555556,
             "#d8576b"
            ],
            [
             0.6666666666666666,
             "#ed7953"
            ],
            [
             0.7777777777777778,
             "#fb9f3a"
            ],
            [
             0.8888888888888888,
             "#fdca26"
            ],
            [
             1,
             "#f0f921"
            ]
           ],
           "sequentialminus": [
            [
             0,
             "#0d0887"
            ],
            [
             0.1111111111111111,
             "#46039f"
            ],
            [
             0.2222222222222222,
             "#7201a8"
            ],
            [
             0.3333333333333333,
             "#9c179e"
            ],
            [
             0.4444444444444444,
             "#bd3786"
            ],
            [
             0.5555555555555556,
             "#d8576b"
            ],
            [
             0.6666666666666666,
             "#ed7953"
            ],
            [
             0.7777777777777778,
             "#fb9f3a"
            ],
            [
             0.8888888888888888,
             "#fdca26"
            ],
            [
             1,
             "#f0f921"
            ]
           ]
          },
          "colorway": [
           "#636efa",
           "#EF553B",
           "#00cc96",
           "#ab63fa",
           "#FFA15A",
           "#19d3f3",
           "#FF6692",
           "#B6E880",
           "#FF97FF",
           "#FECB52"
          ],
          "font": {
           "color": "#2a3f5f"
          },
          "geo": {
           "bgcolor": "white",
           "lakecolor": "white",
           "landcolor": "#E5ECF6",
           "showlakes": true,
           "showland": true,
           "subunitcolor": "white"
          },
          "hoverlabel": {
           "align": "left"
          },
          "hovermode": "closest",
          "mapbox": {
           "style": "light"
          },
          "paper_bgcolor": "white",
          "plot_bgcolor": "#E5ECF6",
          "polar": {
           "angularaxis": {
            "gridcolor": "white",
            "linecolor": "white",
            "ticks": ""
           },
           "bgcolor": "#E5ECF6",
           "radialaxis": {
            "gridcolor": "white",
            "linecolor": "white",
            "ticks": ""
           }
          },
          "scene": {
           "xaxis": {
            "backgroundcolor": "#E5ECF6",
            "gridcolor": "white",
            "gridwidth": 2,
            "linecolor": "white",
            "showbackground": true,
            "ticks": "",
            "zerolinecolor": "white"
           },
           "yaxis": {
            "backgroundcolor": "#E5ECF6",
            "gridcolor": "white",
            "gridwidth": 2,
            "linecolor": "white",
            "showbackground": true,
            "ticks": "",
            "zerolinecolor": "white"
           },
           "zaxis": {
            "backgroundcolor": "#E5ECF6",
            "gridcolor": "white",
            "gridwidth": 2,
            "linecolor": "white",
            "showbackground": true,
            "ticks": "",
            "zerolinecolor": "white"
           }
          },
          "shapedefaults": {
           "line": {
            "color": "#2a3f5f"
           }
          },
          "ternary": {
           "aaxis": {
            "gridcolor": "white",
            "linecolor": "white",
            "ticks": ""
           },
           "baxis": {
            "gridcolor": "white",
            "linecolor": "white",
            "ticks": ""
           },
           "bgcolor": "#E5ECF6",
           "caxis": {
            "gridcolor": "white",
            "linecolor": "white",
            "ticks": ""
           }
          },
          "title": {
           "x": 0.05
          },
          "xaxis": {
           "automargin": true,
           "gridcolor": "white",
           "linecolor": "white",
           "ticks": "",
           "title": {
            "standoff": 15
           },
           "zerolinecolor": "white",
           "zerolinewidth": 2
          },
          "yaxis": {
           "automargin": true,
           "gridcolor": "white",
           "linecolor": "white",
           "ticks": "",
           "title": {
            "standoff": 15
           },
           "zerolinecolor": "white",
           "zerolinewidth": 2
          }
         }
        },
        "title": {
         "text": "Strategy Performance"
        },
        "xaxis": {
         "gridcolor": "dimgray",
         "linecolor": "white",
         "showgrid": true,
         "showline": true,
         "tickcolor": "white",
         "tickfont": {
          "color": "white"
         },
         "tickformat": "%Y",
         "ticks": "outside",
         "title": {
          "text": "Date"
         }
        },
        "yaxis": {
         "gridcolor": "dimgray",
         "linecolor": "white",
         "showgrid": true,
         "showline": true,
         "tickcolor": "white",
         "tickfont": {
          "color": "white"
         },
         "ticks": "outside",
         "title": {
          "text": "Cumulative Log Return"
         }
        }
       }
      }
     },
     "metadata": {},
     "output_type": "display_data"
    }
   ],
   "source": [
    "import numpy as np\n",
    "import pandas as pd\n",
    "import plotly.graph_objects as go\n",
    "\n",
    "from investing_algorithm_framework import get_backtest_report, \\\n",
    "    get_cumulative_profit_factor_series, download, get_profit_factor, \\\n",
    "    get_sharpe_ratio\n",
    "\n",
    "\n",
    "\n",
    "if __name__ == \"__main__\":\n",
    "    report = get_backtest_report(directory=\"./resources/backtest_report\")\n",
    "    btceur_ohlcv = download(\n",
    "        symbol=\"btc/eur\",\n",
    "        market=\"bitvavo\",\n",
    "        time_frame=\"1d\",\n",
    "        start_date=report.backtest_date_range.start_date,\n",
    "        end_date=report.backtest_date_range.end_date,\n",
    "        pandas=True,\n",
    "        save=True,\n",
    "        storage_path=\"./data\"\n",
    "    )\n",
    "\n",
    "    # Example usage of get_backtest_report\n",
    "    profit_factor_series = get_cumulative_profit_factor_series(\n",
    "        backtest_report=report\n",
    "    )\n",
    "    print(profit_factor_series)\n",
    "\n",
    "    profit_factor = get_profit_factor(\n",
    "        backtest_report=report\n",
    "    )\n",
    "    print(f\"Profit Factor: {profit_factor}\")\n",
    "\n",
    "    sharp_ratio = get_sharpe_ratio(backtest_report=report, frequency=\"weekly\", region=\"EU\")\n",
    "    print(f\"Sharp Ratio: {sharp_ratio}\")\n",
    "    print(report.number_of_days)\n",
    "    print(report.total_net_gain_percentage)\n",
    "\n",
    "    # Simulated price data\n",
    "    dates = pd.date_range(start=\"2016-01-01\", periods=1000, freq='D')\n",
    "    prices = pd.Series(np.random.lognormal(mean=0.0005, sigma=0.01, size=len(dates)), index=dates).cumprod()\n",
    "    prices_btceur = btceur_ohlcv['Close']\n",
    "\n",
    "    # # Ensure the index is a datetime index\n",
    "    dates_btceur = btceur_ohlcv.index\n",
    "\n",
    "    # Calculate log close for BTC/EUR\n",
    "    log_close_btceur = np.log(btceur_ohlcv['Close'])\n",
    "\n",
    "    # Create plot\n",
    "    fig = go.Figure()\n",
    "\n",
    "\n",
    "    # Assuming profit_factor_series = [(datetime1, pf1), (datetime2, pf2), ...]\n",
    "    timestamps, profit_factors = zip(*profit_factor_series)  # unzip into two lists\n",
    "\n",
    "    print(f\"Timestamps: {timestamps}\")\n",
    "    # Add to your Plotly figure\n",
    "    # fig.add_trace(go.Scatter(\n",
    "    #     x=timestamps,\n",
    "    #     y=profit_factors,\n",
    "    #     mode='lines',\n",
    "    #     name='Cumulative Profit Factor',\n",
    "    #     line=dict(color='blue', width=2, dash='dash')  # optional styling\n",
    "    # ))\n",
    "\n",
    "    fig.add_trace(go.Scatter(\n",
    "        x=log_close_btceur.index,\n",
    "        y=log_close_btceur.values,\n",
    "        mode='lines',\n",
    "        name='BTC/EUR Log Close',\n",
    "        line=dict(color='orange', width=2)\n",
    "    ))\n",
    "\n",
    "    # Add profit factor annotation to the chart\n",
    "    fig.add_annotation(\n",
    "        xref=\"paper\", yref=\"paper\",\n",
    "        x=0.01, y=0.95,\n",
    "        text=f\"Strategy Profit Factor: <b>{profit_factor:.2f}</b>, Sharpe Ratio: <b>{sharp_ratio:.2f}</b>\",\n",
    "        showarrow=False,\n",
    "        font=dict(size=18, color=\"orange\"),\n",
    "        align=\"left\",\n",
    "        bgcolor=\"black\",\n",
    "        bordercolor=\"orange\"\n",
    "    )\n",
    "\n",
    "    # Configure layout to match the style in your screenshot\n",
    "    fig.update_layout(\n",
    "        title='Strategy Performance',\n",
    "        xaxis=dict(\n",
    "            title='Date',\n",
    "            showgrid=True,\n",
    "            gridcolor='dimgray',\n",
    "            tickformat='%b %Y',\n",
    "            tickfont=dict(color='white'),\n",
    "            showline=True,\n",
    "            linecolor='white',\n",
    "            ticks='outside',\n",
    "            tickcolor='white'\n",
    "        ),\n",
    "        yaxis=dict(\n",
    "            title='Cumulative Log Return',\n",
    "            showgrid=True,\n",
    "            gridcolor='dimgray',\n",
    "            tickfont=dict(color='white'),\n",
    "            showline=True,\n",
    "            linecolor='white',\n",
    "            ticks='outside',\n",
    "            tickcolor='white'\n",
    "        ),\n",
    "        plot_bgcolor='black',\n",
    "        paper_bgcolor='black',\n",
    "        font=dict(color='lime'),\n",
    "        hovermode='x unified',\n",
    "        legend=dict(\n",
    "            font=dict(color='white'),\n",
    "            bgcolor='rgba(0,0,0,0)',\n",
    "            bordercolor='white'\n",
    "        )\n",
    "    )\n",
    "\n",
    "    fig.show()\n"
   ]
  }
 ],
 "metadata": {
  "kernelspec": {
   "display_name": "investing-algorithm-framework-ygOLr3-a-py3.12",
   "language": "python",
   "name": "python3"
  },
  "language_info": {
   "codemirror_mode": {
    "name": "ipython",
    "version": 3
   },
   "file_extension": ".py",
   "mimetype": "text/x-python",
   "name": "python",
   "nbconvert_exporter": "python",
   "pygments_lexer": "ipython3",
   "version": "3.12.10"
  }
 },
 "nbformat": 4,
 "nbformat_minor": 5
}
